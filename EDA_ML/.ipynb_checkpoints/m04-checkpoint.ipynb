{
 "cells": [
  {
   "cell_type": "markdown",
   "id": "equal-regard",
   "metadata": {},
   "source": [
    "# Курс \"Machine Learning\" от ГК «Иннотех»\n",
    "## Занятие 05. \"Валидация и отбор признаков\"\n",
    "Домашнее задание выполнено **Мельниковой Маргаритой** (@Margarita_3M).\n",
    "\n",
    "---\n",
    "### Задача\n",
    "- Предсказание оттока клиентов банка. \n",
    "- Это задача классификации. Нужно предсказать значение поля Exited.\n",
    "- Всё то, что делали ранее, нужно делать и тут 🙂 \n",
    "- Анализируйте и предобрабатывайте данные. Описывайте ход ваших мыслей.  Ну, и конечно же, подходы с прошлого занятия не забывайте применять в своей работе 🙂 \n",
    "\n",
    "### Описание данных:\n",
    "\n",
    "|Feature|Description|\n",
    "|---|---|\n",
    "|RowNumber|corresponds to the record (row) number and has no effect on the output|\n",
    "CustomerId|contains random values and has no effect on customer leaving the bank|\n",
    "Surname|the surname of a customer has no impact on their decision to leave the bank\n",
    "|CreditScore||\n",
    "|Geography|a customer’s location can affect their decision to leave the bank|\n",
    "|Gender|it’s interesting to explore whether gender plays a role in a customer leaving the bank|\n",
    "|Age|this is certainly relevant, since older customers are less likely to leave their bank than younger ones|\n",
    "|Tenure|refers to the number of years that the customer has been a client of the bank. Normally, older clients are more loyal and less likely to leave a bank|\n",
    "|Balance|also a very good indicator of customer churn, as people with a higher balance in their accounts are less likely to leave the bank compared to those with lower balances|\n",
    "|NumOfProducts|refers to the number of products that a customer has purchased through the bank|\n",
    "|HasCrCard|denotes whether or not a customer has a credit card. This column is also relevant, since people with a credit card are less likely to leave the bank|\n",
    "|IsActiveMember|active customers are less likely to leave the bank|\n",
    "|EstimatedSalary|as with balance, people with lower salaries are more likely to leave the bank compared to those with higher salaries|\n",
    "|Exited|whether or not the customer left the bank|\n",
    "\n",
    "---\n",
    "### Решение"
   ]
  },
  {
   "cell_type": "code",
   "execution_count": 1,
   "id": "assigned-billy",
   "metadata": {},
   "outputs": [],
   "source": [
    "import pandas as pd\n",
    "import matplotlib.pyplot as plt\n",
    "import seaborn as sns\n",
    "import numpy as np\n",
    "from sklearn.preprocessing import OneHotEncoder\n",
    "from sklearn.preprocessing import StandardScaler, MinMaxScaler\n",
    "from sklearn.linear_model import LogisticRegression\n",
    "from sklearn.metrics import classification_report\n",
    "from statsmodels.stats.proportion import proportions_ztest\n",
    "from sklearn.model_selection import train_test_split\n",
    "from sklearn.model_selection import GridSearchCV, RandomizedSearchCV"
   ]
  },
  {
   "cell_type": "code",
   "execution_count": 2,
   "id": "dressed-commons",
   "metadata": {},
   "outputs": [],
   "source": [
    "# importing dataset\n",
    "url = 'https://drive.google.com/file/d/182-tsrsDhnY94PLcFJBFXpRSeYEBRL9u/view?usp=sharing'\n",
    "path = 'https://drive.google.com/uc?export=download&id=' + url.split('/')[-2]\n",
    "\n",
    "data = pd.read_csv(path)"
   ]
  },
  {
   "cell_type": "markdown",
   "id": "finnish-departure",
   "metadata": {},
   "source": [
    "#### Мои функции для дальнейшей работы"
   ]
  },
  {
   "cell_type": "code",
   "execution_count": 3,
   "id": "wired-remainder",
   "metadata": {},
   "outputs": [],
   "source": [
    "def iqr(df, column):\n",
    "    '''\n",
    "    Находим границы для аутлаеров\n",
    "    '''\n",
    "    Q1 = df[column].quantile(0.25)\n",
    "    Q3 = df[column].quantile(0.75)\n",
    "    IQR = Q3 - Q1\n",
    "    quartile_lower = Q1 - 1.5 * IQR\n",
    "    quartile_higher = Q1 + 1.5 * IQR\n",
    "    return quartile_lower, quartile_higher\n",
    "\n",
    "def cat_feat_plot(df, x_list, y_name):\n",
    "    '''\n",
    "    Графики для категориальных переменных\n",
    "    '''\n",
    "    for el in x_list:\n",
    "        plt.figure(figsize=(10, 5))\n",
    "        plt.subplot(1,2,1)\n",
    "        plt.title(el + ' histogram')\n",
    "        sns.countplot(data=df, x=el)\n",
    "\n",
    "        plt.subplot(1,2,2)\n",
    "        plt.title(el + ' pointplot')\n",
    "        sns.pointplot(data=df, x=el, y=y_name)\n",
    "\n",
    "        plt.show()\n",
    "        \n",
    "def num_feat_plot(df, x_list, y_name):\n",
    "    '''\n",
    "    Графики для числовых переменных\n",
    "    '''\n",
    "    for el in x_list:\n",
    "        plt.figure(figsize=(10, 5))\n",
    "        plt.subplot(1,2,1)\n",
    "        plt.title(el + ' histogram')\n",
    "        sns.histplot(data=df, x=el, hue=y_name)\n",
    "\n",
    "        plt.subplot(1,2,2)\n",
    "        plt.title(el + ' boxplot')\n",
    "        sns.boxplot(data=df, x=el)\n",
    "\n",
    "        plt.show()"
   ]
  },
  {
   "cell_type": "markdown",
   "id": "liked-mailman",
   "metadata": {},
   "source": [
    "#### Обогащаю данные\n",
    "\n",
    "##### Пенсионный возраст\n",
    "Источник: https://ru.wikipedia.org/wiki/%D0%9F%D0%B5%D0%BD%D1%81%D0%B8%D0%BE%D0%BD%D0%BD%D1%8B%D0%B9_%D0%B2%D0%BE%D0%B7%D1%80%D0%B0%D1%81%D1%82#%D0%9F%D0%B5%D0%BD%D1%81%D0%B8%D0%BE%D0%BD%D0%BD%D1%8B%D0%B9_%D0%B2%D0%BE%D0%B7%D1%80%D0%B0%D1%81%D1%82_%D0%BF%D0%BE_%D1%81%D1%82%D1%80%D0%B0%D0%BD%D0%B0%D0%BC"
   ]
  },
  {
   "cell_type": "code",
   "execution_count": 4,
   "id": "younger-march",
   "metadata": {},
   "outputs": [
    {
     "data": {
      "text/html": [
       "<div>\n",
       "<style scoped>\n",
       "    .dataframe tbody tr th:only-of-type {\n",
       "        vertical-align: middle;\n",
       "    }\n",
       "\n",
       "    .dataframe tbody tr th {\n",
       "        vertical-align: top;\n",
       "    }\n",
       "\n",
       "    .dataframe thead th {\n",
       "        text-align: right;\n",
       "    }\n",
       "</style>\n",
       "<table border=\"1\" class=\"dataframe\">\n",
       "  <thead>\n",
       "    <tr style=\"text-align: right;\">\n",
       "      <th></th>\n",
       "      <th>Geography</th>\n",
       "      <th>Gender</th>\n",
       "      <th>PensionAge</th>\n",
       "    </tr>\n",
       "  </thead>\n",
       "  <tbody>\n",
       "    <tr>\n",
       "      <th>0</th>\n",
       "      <td>Germany</td>\n",
       "      <td>Female</td>\n",
       "      <td>65</td>\n",
       "    </tr>\n",
       "    <tr>\n",
       "      <th>1</th>\n",
       "      <td>Germany</td>\n",
       "      <td>Male</td>\n",
       "      <td>65</td>\n",
       "    </tr>\n",
       "    <tr>\n",
       "      <th>2</th>\n",
       "      <td>France</td>\n",
       "      <td>Female</td>\n",
       "      <td>65</td>\n",
       "    </tr>\n",
       "    <tr>\n",
       "      <th>3</th>\n",
       "      <td>France</td>\n",
       "      <td>Male</td>\n",
       "      <td>65</td>\n",
       "    </tr>\n",
       "    <tr>\n",
       "      <th>4</th>\n",
       "      <td>Spain</td>\n",
       "      <td>Female</td>\n",
       "      <td>62</td>\n",
       "    </tr>\n",
       "    <tr>\n",
       "      <th>5</th>\n",
       "      <td>Spain</td>\n",
       "      <td>Male</td>\n",
       "      <td>62</td>\n",
       "    </tr>\n",
       "  </tbody>\n",
       "</table>\n",
       "</div>"
      ],
      "text/plain": [
       "  Geography  Gender  PensionAge\n",
       "0   Germany  Female          65\n",
       "1   Germany    Male          65\n",
       "2    France  Female          65\n",
       "3    France    Male          65\n",
       "4     Spain  Female          62\n",
       "5     Spain    Male          62"
      ]
     },
     "execution_count": 4,
     "metadata": {},
     "output_type": "execute_result"
    }
   ],
   "source": [
    "pension = [\n",
    "    ['Germany', 'Female', 65],\n",
    "    ['Germany', 'Male', 65],\n",
    "    ['France', 'Female', 65],\n",
    "    ['France', 'Male', 65],\n",
    "    ['Spain', 'Female', 62],\n",
    "    ['Spain', 'Male', 62]\n",
    "] # допустим, что данные в основном датасете для моделирования 2021 года\n",
    "df_pension = pd.DataFrame(pension, columns=['Geography', 'Gender', 'PensionAge'])\n",
    "df_pension.head(6)"
   ]
  },
  {
   "cell_type": "markdown",
   "id": "numeric-skill",
   "metadata": {},
   "source": [
    "#### Знакомство с данными"
   ]
  },
  {
   "cell_type": "code",
   "execution_count": 5,
   "id": "ultimate-repeat",
   "metadata": {},
   "outputs": [
    {
     "data": {
      "text/html": [
       "<div>\n",
       "<style scoped>\n",
       "    .dataframe tbody tr th:only-of-type {\n",
       "        vertical-align: middle;\n",
       "    }\n",
       "\n",
       "    .dataframe tbody tr th {\n",
       "        vertical-align: top;\n",
       "    }\n",
       "\n",
       "    .dataframe thead th {\n",
       "        text-align: right;\n",
       "    }\n",
       "</style>\n",
       "<table border=\"1\" class=\"dataframe\">\n",
       "  <thead>\n",
       "    <tr style=\"text-align: right;\">\n",
       "      <th></th>\n",
       "      <th>RowNumber</th>\n",
       "      <th>CustomerId</th>\n",
       "      <th>Surname</th>\n",
       "      <th>CreditScore</th>\n",
       "      <th>Geography</th>\n",
       "      <th>Gender</th>\n",
       "      <th>Age</th>\n",
       "      <th>Tenure</th>\n",
       "      <th>Balance</th>\n",
       "      <th>NumOfProducts</th>\n",
       "      <th>HasCrCard</th>\n",
       "      <th>IsActiveMember</th>\n",
       "      <th>EstimatedSalary</th>\n",
       "      <th>Exited</th>\n",
       "    </tr>\n",
       "  </thead>\n",
       "  <tbody>\n",
       "    <tr>\n",
       "      <th>0</th>\n",
       "      <td>1</td>\n",
       "      <td>15634602</td>\n",
       "      <td>Hargrave</td>\n",
       "      <td>619</td>\n",
       "      <td>France</td>\n",
       "      <td>Female</td>\n",
       "      <td>42</td>\n",
       "      <td>2</td>\n",
       "      <td>0.00</td>\n",
       "      <td>1</td>\n",
       "      <td>1</td>\n",
       "      <td>1</td>\n",
       "      <td>101348.88</td>\n",
       "      <td>1</td>\n",
       "    </tr>\n",
       "    <tr>\n",
       "      <th>1</th>\n",
       "      <td>2</td>\n",
       "      <td>15647311</td>\n",
       "      <td>Hill</td>\n",
       "      <td>608</td>\n",
       "      <td>Spain</td>\n",
       "      <td>Female</td>\n",
       "      <td>41</td>\n",
       "      <td>1</td>\n",
       "      <td>83807.86</td>\n",
       "      <td>1</td>\n",
       "      <td>0</td>\n",
       "      <td>1</td>\n",
       "      <td>112542.58</td>\n",
       "      <td>0</td>\n",
       "    </tr>\n",
       "  </tbody>\n",
       "</table>\n",
       "</div>"
      ],
      "text/plain": [
       "   RowNumber  CustomerId   Surname  CreditScore Geography  Gender  Age  \\\n",
       "0          1    15634602  Hargrave          619    France  Female   42   \n",
       "1          2    15647311      Hill          608     Spain  Female   41   \n",
       "\n",
       "   Tenure   Balance  NumOfProducts  HasCrCard  IsActiveMember  \\\n",
       "0       2      0.00              1          1               1   \n",
       "1       1  83807.86              1          0               1   \n",
       "\n",
       "   EstimatedSalary  Exited  \n",
       "0        101348.88       1  \n",
       "1        112542.58       0  "
      ]
     },
     "execution_count": 5,
     "metadata": {},
     "output_type": "execute_result"
    }
   ],
   "source": [
    "data.head(2)"
   ]
  },
  {
   "cell_type": "code",
   "execution_count": 6,
   "id": "inclusive-recruitment",
   "metadata": {},
   "outputs": [
    {
     "name": "stdout",
     "output_type": "stream",
     "text": [
      "<class 'pandas.core.frame.DataFrame'>\n",
      "RangeIndex: 10000 entries, 0 to 9999\n",
      "Data columns (total 14 columns):\n",
      " #   Column           Non-Null Count  Dtype  \n",
      "---  ------           --------------  -----  \n",
      " 0   RowNumber        10000 non-null  int64  \n",
      " 1   CustomerId       10000 non-null  int64  \n",
      " 2   Surname          10000 non-null  object \n",
      " 3   CreditScore      10000 non-null  int64  \n",
      " 4   Geography        10000 non-null  object \n",
      " 5   Gender           10000 non-null  object \n",
      " 6   Age              10000 non-null  int64  \n",
      " 7   Tenure           10000 non-null  int64  \n",
      " 8   Balance          10000 non-null  float64\n",
      " 9   NumOfProducts    10000 non-null  int64  \n",
      " 10  HasCrCard        10000 non-null  int64  \n",
      " 11  IsActiveMember   10000 non-null  int64  \n",
      " 12  EstimatedSalary  10000 non-null  float64\n",
      " 13  Exited           10000 non-null  int64  \n",
      "dtypes: float64(2), int64(9), object(3)\n",
      "memory usage: 1.1+ MB\n"
     ]
    }
   ],
   "source": [
    "data.info()"
   ]
  },
  {
   "cell_type": "code",
   "execution_count": 7,
   "id": "political-experience",
   "metadata": {},
   "outputs": [
    {
     "data": {
      "text/plain": [
       "14"
      ]
     },
     "execution_count": 7,
     "metadata": {},
     "output_type": "execute_result"
    }
   ],
   "source": [
    "len((list(data.columns)))"
   ]
  },
  {
   "cell_type": "markdown",
   "id": "vital-fighter",
   "metadata": {},
   "source": [
    "> Явных пропусков в данных нет. Далее необходимо смотреть детальнее, т.к. пропуски в данном датасете могли быть обработаны </br>\n",
    "> Распишем переменные по типам, согласно описанию и того, что наблюдаем в данных."
   ]
  },
  {
   "cell_type": "code",
   "execution_count": 8,
   "id": "described-kingdom",
   "metadata": {},
   "outputs": [
    {
     "data": {
      "text/plain": [
       "Index(['RowNumber', 'CustomerId', 'Surname', 'CreditScore', 'Geography',\n",
       "       'Gender', 'Age', 'Tenure', 'Balance', 'NumOfProducts', 'HasCrCard',\n",
       "       'IsActiveMember', 'EstimatedSalary', 'Exited'],\n",
       "      dtype='object')"
      ]
     },
     "execution_count": 8,
     "metadata": {},
     "output_type": "execute_result"
    }
   ],
   "source": [
    "data.columns"
   ]
  },
  {
   "cell_type": "code",
   "execution_count": 9,
   "id": "light-announcement",
   "metadata": {},
   "outputs": [
    {
     "name": "stdout",
     "output_type": "stream",
     "text": [
      "Column \"Geography\" has unique values as follows ['France' 'Spain' 'Germany']\n",
      "Column \"Gender\" has unique values as follows ['Female' 'Male']\n",
      "Column \"HasCrCard\" has unique values as follows [1 0]\n",
      "Column \"IsActiveMember\" has unique values as follows [1 0]\n"
     ]
    }
   ],
   "source": [
    "for col in data[['Geography', 'Gender','HasCrCard','IsActiveMember']]:\n",
    "    print('Column \"{}\" has unique values as follows {}'.format(col, data[col].unique()))"
   ]
  },
  {
   "cell_type": "code",
   "execution_count": 10,
   "id": "grave-relationship",
   "metadata": {},
   "outputs": [],
   "source": [
    "f_num = [\n",
    "    'CreditScore',\n",
    "    'Age',\n",
    "    'Tenure',\n",
    "    'Balance', \n",
    "    'NumOfProducts',\n",
    "    'EstimatedSalary'\n",
    "] # числовые переменные\n",
    "\n",
    "f_bin_ = [\n",
    "    'HasCrCard',\n",
    "    'IsActiveMember'    \n",
    "] # категориальные, бинарные\n",
    "\n",
    "f_cat_ = [\n",
    "    'Geography',\n",
    "    'Gender'   \n",
    "] # категориальные, которые еще предстоит обработать\n",
    "\n",
    "f_text = ['Surname'] # вряд ли, но посмотрим\n",
    "\n",
    "f_other = [\n",
    "    'RowNumber',\n",
    "    'CustomerId'\n",
    "] # а вдруг \"криво\" датасет сделали, нужно детально посмотреть\n",
    "\n",
    "target = [\n",
    "     'Exited' ] # целевое значение"
   ]
  },
  {
   "cell_type": "code",
   "execution_count": 11,
   "id": "aerial-veteran",
   "metadata": {},
   "outputs": [],
   "source": [
    "assert len(f_num) + len(f_cat_) + len(f_bin_) + len(f_text) + len(f_other) + len(target) == data.shape[1], 'Check split'"
   ]
  },
  {
   "cell_type": "markdown",
   "id": "referenced-spirituality",
   "metadata": {},
   "source": [
    "#### Работа с типами данных и пропусками\n",
    "> 'f_num'"
   ]
  },
  {
   "cell_type": "code",
   "execution_count": 12,
   "id": "genetic-boxing",
   "metadata": {},
   "outputs": [
    {
     "name": "stdout",
     "output_type": "stream",
     "text": [
      "<class 'pandas.core.frame.DataFrame'>\n",
      "RangeIndex: 10000 entries, 0 to 9999\n",
      "Data columns (total 6 columns):\n",
      " #   Column           Non-Null Count  Dtype  \n",
      "---  ------           --------------  -----  \n",
      " 0   CreditScore      10000 non-null  int64  \n",
      " 1   Age              10000 non-null  int64  \n",
      " 2   Tenure           10000 non-null  int64  \n",
      " 3   Balance          10000 non-null  float64\n",
      " 4   NumOfProducts    10000 non-null  int64  \n",
      " 5   EstimatedSalary  10000 non-null  float64\n",
      "dtypes: float64(2), int64(4)\n",
      "memory usage: 468.9 KB\n"
     ]
    }
   ],
   "source": [
    "data[f_num].info()"
   ]
  },
  {
   "cell_type": "code",
   "execution_count": 13,
   "id": "positive-sponsorship",
   "metadata": {},
   "outputs": [
    {
     "data": {
      "text/html": [
       "<div>\n",
       "<style scoped>\n",
       "    .dataframe tbody tr th:only-of-type {\n",
       "        vertical-align: middle;\n",
       "    }\n",
       "\n",
       "    .dataframe tbody tr th {\n",
       "        vertical-align: top;\n",
       "    }\n",
       "\n",
       "    .dataframe thead th {\n",
       "        text-align: right;\n",
       "    }\n",
       "</style>\n",
       "<table border=\"1\" class=\"dataframe\">\n",
       "  <thead>\n",
       "    <tr style=\"text-align: right;\">\n",
       "      <th></th>\n",
       "      <th>CreditScore</th>\n",
       "      <th>Age</th>\n",
       "      <th>Tenure</th>\n",
       "      <th>Balance</th>\n",
       "      <th>NumOfProducts</th>\n",
       "      <th>EstimatedSalary</th>\n",
       "    </tr>\n",
       "  </thead>\n",
       "  <tbody>\n",
       "    <tr>\n",
       "      <th>count</th>\n",
       "      <td>10000.000000</td>\n",
       "      <td>10000.000000</td>\n",
       "      <td>10000.000000</td>\n",
       "      <td>10000.000000</td>\n",
       "      <td>10000.000000</td>\n",
       "      <td>10000.000000</td>\n",
       "    </tr>\n",
       "    <tr>\n",
       "      <th>mean</th>\n",
       "      <td>650.528800</td>\n",
       "      <td>38.921800</td>\n",
       "      <td>5.012800</td>\n",
       "      <td>76485.889288</td>\n",
       "      <td>1.530200</td>\n",
       "      <td>100090.239881</td>\n",
       "    </tr>\n",
       "    <tr>\n",
       "      <th>std</th>\n",
       "      <td>96.653299</td>\n",
       "      <td>10.487806</td>\n",
       "      <td>2.892174</td>\n",
       "      <td>62397.405202</td>\n",
       "      <td>0.581654</td>\n",
       "      <td>57510.492818</td>\n",
       "    </tr>\n",
       "    <tr>\n",
       "      <th>min</th>\n",
       "      <td>350.000000</td>\n",
       "      <td>18.000000</td>\n",
       "      <td>0.000000</td>\n",
       "      <td>0.000000</td>\n",
       "      <td>1.000000</td>\n",
       "      <td>11.580000</td>\n",
       "    </tr>\n",
       "    <tr>\n",
       "      <th>25%</th>\n",
       "      <td>584.000000</td>\n",
       "      <td>32.000000</td>\n",
       "      <td>3.000000</td>\n",
       "      <td>0.000000</td>\n",
       "      <td>1.000000</td>\n",
       "      <td>51002.110000</td>\n",
       "    </tr>\n",
       "    <tr>\n",
       "      <th>50%</th>\n",
       "      <td>652.000000</td>\n",
       "      <td>37.000000</td>\n",
       "      <td>5.000000</td>\n",
       "      <td>97198.540000</td>\n",
       "      <td>1.000000</td>\n",
       "      <td>100193.915000</td>\n",
       "    </tr>\n",
       "    <tr>\n",
       "      <th>75%</th>\n",
       "      <td>718.000000</td>\n",
       "      <td>44.000000</td>\n",
       "      <td>7.000000</td>\n",
       "      <td>127644.240000</td>\n",
       "      <td>2.000000</td>\n",
       "      <td>149388.247500</td>\n",
       "    </tr>\n",
       "    <tr>\n",
       "      <th>max</th>\n",
       "      <td>850.000000</td>\n",
       "      <td>92.000000</td>\n",
       "      <td>10.000000</td>\n",
       "      <td>250898.090000</td>\n",
       "      <td>4.000000</td>\n",
       "      <td>199992.480000</td>\n",
       "    </tr>\n",
       "  </tbody>\n",
       "</table>\n",
       "</div>"
      ],
      "text/plain": [
       "        CreditScore           Age        Tenure        Balance  NumOfProducts  \\\n",
       "count  10000.000000  10000.000000  10000.000000   10000.000000   10000.000000   \n",
       "mean     650.528800     38.921800      5.012800   76485.889288       1.530200   \n",
       "std       96.653299     10.487806      2.892174   62397.405202       0.581654   \n",
       "min      350.000000     18.000000      0.000000       0.000000       1.000000   \n",
       "25%      584.000000     32.000000      3.000000       0.000000       1.000000   \n",
       "50%      652.000000     37.000000      5.000000   97198.540000       1.000000   \n",
       "75%      718.000000     44.000000      7.000000  127644.240000       2.000000   \n",
       "max      850.000000     92.000000     10.000000  250898.090000       4.000000   \n",
       "\n",
       "       EstimatedSalary  \n",
       "count     10000.000000  \n",
       "mean     100090.239881  \n",
       "std       57510.492818  \n",
       "min          11.580000  \n",
       "25%       51002.110000  \n",
       "50%      100193.915000  \n",
       "75%      149388.247500  \n",
       "max      199992.480000  "
      ]
     },
     "execution_count": 13,
     "metadata": {},
     "output_type": "execute_result"
    }
   ],
   "source": [
    "data[f_num].describe()"
   ]
  },
  {
   "cell_type": "markdown",
   "id": "atomic-norway",
   "metadata": {},
   "source": [
    "> Типы переменных менять не нужно </br>\n",
    "> Пропусков действительно нет"
   ]
  },
  {
   "cell_type": "markdown",
   "id": "neutral-nancy",
   "metadata": {},
   "source": [
    "> 'f_bin_'"
   ]
  },
  {
   "cell_type": "code",
   "execution_count": 14,
   "id": "adolescent-university",
   "metadata": {},
   "outputs": [
    {
     "name": "stdout",
     "output_type": "stream",
     "text": [
      "<class 'pandas.core.frame.DataFrame'>\n",
      "RangeIndex: 10000 entries, 0 to 9999\n",
      "Data columns (total 2 columns):\n",
      " #   Column          Non-Null Count  Dtype\n",
      "---  ------          --------------  -----\n",
      " 0   HasCrCard       10000 non-null  int64\n",
      " 1   IsActiveMember  10000 non-null  int64\n",
      "dtypes: int64(2)\n",
      "memory usage: 156.4 KB\n"
     ]
    }
   ],
   "source": [
    "data[f_bin_].info()"
   ]
  },
  {
   "cell_type": "code",
   "execution_count": 15,
   "id": "ranging-definition",
   "metadata": {},
   "outputs": [
    {
     "data": {
      "image/png": "[encoded data removed]",
      "text/plain": [
       "<Figure size 720x360 with 2 Axes>"
      ]
     },
     "metadata": {
      "needs_background": "light"
     },
     "output_type": "display_data"
    },
    {
     "data": {
      "image/png": "[encoded data removed]",
      "text/plain": [
       "<Figure size 720x360 with 2 Axes>"
      ]
     },
     "metadata": {
      "needs_background": "light"
     },
     "output_type": "display_data"
    }
   ],
   "source": [
    "cat_feat_plot(data, f_bin_, 'Exited')"
   ]
  },
  {
   "cell_type": "code",
   "execution_count": 16,
   "id": "saving-latino",
   "metadata": {},
   "outputs": [
    {
     "data": {
      "text/html": [
       "<div>\n",
       "<style scoped>\n",
       "    .dataframe tbody tr th:only-of-type {\n",
       "        vertical-align: middle;\n",
       "    }\n",
       "\n",
       "    .dataframe tbody tr th {\n",
       "        vertical-align: top;\n",
       "    }\n",
       "\n",
       "    .dataframe thead th {\n",
       "        text-align: right;\n",
       "    }\n",
       "</style>\n",
       "<table border=\"1\" class=\"dataframe\">\n",
       "  <thead>\n",
       "    <tr style=\"text-align: right;\">\n",
       "      <th></th>\n",
       "      <th>HasCrCard</th>\n",
       "      <th>IsActiveMember</th>\n",
       "    </tr>\n",
       "  </thead>\n",
       "  <tbody>\n",
       "    <tr>\n",
       "      <th>count</th>\n",
       "      <td>10000.00000</td>\n",
       "      <td>10000.000000</td>\n",
       "    </tr>\n",
       "    <tr>\n",
       "      <th>mean</th>\n",
       "      <td>0.70550</td>\n",
       "      <td>0.515100</td>\n",
       "    </tr>\n",
       "    <tr>\n",
       "      <th>std</th>\n",
       "      <td>0.45584</td>\n",
       "      <td>0.499797</td>\n",
       "    </tr>\n",
       "    <tr>\n",
       "      <th>min</th>\n",
       "      <td>0.00000</td>\n",
       "      <td>0.000000</td>\n",
       "    </tr>\n",
       "    <tr>\n",
       "      <th>25%</th>\n",
       "      <td>0.00000</td>\n",
       "      <td>0.000000</td>\n",
       "    </tr>\n",
       "    <tr>\n",
       "      <th>50%</th>\n",
       "      <td>1.00000</td>\n",
       "      <td>1.000000</td>\n",
       "    </tr>\n",
       "    <tr>\n",
       "      <th>75%</th>\n",
       "      <td>1.00000</td>\n",
       "      <td>1.000000</td>\n",
       "    </tr>\n",
       "    <tr>\n",
       "      <th>max</th>\n",
       "      <td>1.00000</td>\n",
       "      <td>1.000000</td>\n",
       "    </tr>\n",
       "  </tbody>\n",
       "</table>\n",
       "</div>"
      ],
      "text/plain": [
       "         HasCrCard  IsActiveMember\n",
       "count  10000.00000    10000.000000\n",
       "mean       0.70550        0.515100\n",
       "std        0.45584        0.499797\n",
       "min        0.00000        0.000000\n",
       "25%        0.00000        0.000000\n",
       "50%        1.00000        1.000000\n",
       "75%        1.00000        1.000000\n",
       "max        1.00000        1.000000"
      ]
     },
     "execution_count": 16,
     "metadata": {},
     "output_type": "execute_result"
    }
   ],
   "source": [
    "data[f_bin_].describe()"
   ]
  },
  {
   "cell_type": "markdown",
   "id": "single-cooler",
   "metadata": {},
   "source": [
    "> Типы переменных менять не нужно </br>\n",
    "> Пропусков действительно нет"
   ]
  },
  {
   "cell_type": "markdown",
   "id": "premium-governor",
   "metadata": {},
   "source": [
    "> 'f_cat_'"
   ]
  },
  {
   "cell_type": "code",
   "execution_count": 17,
   "id": "upper-memorabilia",
   "metadata": {},
   "outputs": [
    {
     "name": "stdout",
     "output_type": "stream",
     "text": [
      "<class 'pandas.core.frame.DataFrame'>\n",
      "RangeIndex: 10000 entries, 0 to 9999\n",
      "Data columns (total 2 columns):\n",
      " #   Column     Non-Null Count  Dtype \n",
      "---  ------     --------------  ----- \n",
      " 0   Geography  10000 non-null  object\n",
      " 1   Gender     10000 non-null  object\n",
      "dtypes: object(2)\n",
      "memory usage: 156.4+ KB\n"
     ]
    }
   ],
   "source": [
    "data[f_cat_].info()"
   ]
  },
  {
   "cell_type": "code",
   "execution_count": 18,
   "id": "boxed-window",
   "metadata": {},
   "outputs": [
    {
     "data": {
      "image/png": "[encoded data removed]",
      "text/plain": [
       "<Figure size 720x360 with 2 Axes>"
      ]
     },
     "metadata": {
      "needs_background": "light"
     },
     "output_type": "display_data"
    },
    {
     "data": {
      "image/png": "[encoded data removed]",
      "text/plain": [
       "<Figure size 720x360 with 2 Axes>"
      ]
     },
     "metadata": {
      "needs_background": "light"
     },
     "output_type": "display_data"
    }
   ],
   "source": [
    "cat_feat_plot(data, f_cat_, 'Exited')"
   ]
  },
  {
   "cell_type": "code",
   "execution_count": 19,
   "id": "structural-moldova",
   "metadata": {},
   "outputs": [
    {
     "data": {
      "text/html": [
       "<div>\n",
       "<style scoped>\n",
       "    .dataframe tbody tr th:only-of-type {\n",
       "        vertical-align: middle;\n",
       "    }\n",
       "\n",
       "    .dataframe tbody tr th {\n",
       "        vertical-align: top;\n",
       "    }\n",
       "\n",
       "    .dataframe thead th {\n",
       "        text-align: right;\n",
       "    }\n",
       "</style>\n",
       "<table border=\"1\" class=\"dataframe\">\n",
       "  <thead>\n",
       "    <tr style=\"text-align: right;\">\n",
       "      <th></th>\n",
       "      <th>Geography</th>\n",
       "      <th>Gender</th>\n",
       "    </tr>\n",
       "  </thead>\n",
       "  <tbody>\n",
       "    <tr>\n",
       "      <th>count</th>\n",
       "      <td>10000</td>\n",
       "      <td>10000</td>\n",
       "    </tr>\n",
       "    <tr>\n",
       "      <th>unique</th>\n",
       "      <td>3</td>\n",
       "      <td>2</td>\n",
       "    </tr>\n",
       "    <tr>\n",
       "      <th>top</th>\n",
       "      <td>France</td>\n",
       "      <td>Male</td>\n",
       "    </tr>\n",
       "    <tr>\n",
       "      <th>freq</th>\n",
       "      <td>5014</td>\n",
       "      <td>5457</td>\n",
       "    </tr>\n",
       "  </tbody>\n",
       "</table>\n",
       "</div>"
      ],
      "text/plain": [
       "       Geography Gender\n",
       "count      10000  10000\n",
       "unique         3      2\n",
       "top       France   Male\n",
       "freq        5014   5457"
      ]
     },
     "execution_count": 19,
     "metadata": {},
     "output_type": "execute_result"
    }
   ],
   "source": [
    "data[f_cat_].describe()"
   ]
  },
  {
   "cell_type": "markdown",
   "id": "reasonable-document",
   "metadata": {},
   "source": [
    "> Типы переменных менять нужно на бинарные </br>\n",
    "> Пропусков действительно нет"
   ]
  },
  {
   "cell_type": "markdown",
   "id": "ecological-dryer",
   "metadata": {},
   "source": [
    "#### Анализ целевой переменной"
   ]
  },
  {
   "cell_type": "code",
   "execution_count": 20,
   "id": "independent-electric",
   "metadata": {},
   "outputs": [
    {
     "data": {
      "text/html": [
       "<div>\n",
       "<style scoped>\n",
       "    .dataframe tbody tr th:only-of-type {\n",
       "        vertical-align: middle;\n",
       "    }\n",
       "\n",
       "    .dataframe tbody tr th {\n",
       "        vertical-align: top;\n",
       "    }\n",
       "\n",
       "    .dataframe thead th {\n",
       "        text-align: right;\n",
       "    }\n",
       "</style>\n",
       "<table border=\"1\" class=\"dataframe\">\n",
       "  <thead>\n",
       "    <tr style=\"text-align: right;\">\n",
       "      <th></th>\n",
       "      <th>Count</th>\n",
       "      <th>%</th>\n",
       "    </tr>\n",
       "    <tr>\n",
       "      <th>Exited</th>\n",
       "      <th></th>\n",
       "      <th></th>\n",
       "    </tr>\n",
       "  </thead>\n",
       "  <tbody>\n",
       "    <tr>\n",
       "      <th>0</th>\n",
       "      <td>7963</td>\n",
       "      <td>0.7963</td>\n",
       "    </tr>\n",
       "    <tr>\n",
       "      <th>1</th>\n",
       "      <td>2037</td>\n",
       "      <td>0.2037</td>\n",
       "    </tr>\n",
       "  </tbody>\n",
       "</table>\n",
       "</div>"
      ],
      "text/plain": [
       "        Count       %\n",
       "Exited               \n",
       "0        7963  0.7963\n",
       "1        2037  0.2037"
      ]
     },
     "execution_count": 20,
     "metadata": {},
     "output_type": "execute_result"
    }
   ],
   "source": [
    "pd \\\n",
    "    .concat(\n",
    "    [data[target].value_counts(normalize=False),\n",
    "     data[target].value_counts(normalize=True)], \n",
    "    axis=1\n",
    "         ) \\\n",
    "    .rename(columns={0: 'Count', 1: '%'})"
   ]
  },
  {
   "cell_type": "markdown",
   "id": "addressed-steal",
   "metadata": {},
   "source": [
    "> Наблюдается дисбаланс классов целевой переменной. Для построения модели классификации нужно будет использовать down/up- sampling."
   ]
  },
  {
   "cell_type": "markdown",
   "id": "prompt-baker",
   "metadata": {},
   "source": [
    "#### Анализ числовых переменных"
   ]
  },
  {
   "cell_type": "code",
   "execution_count": 21,
   "id": "confused-parliament",
   "metadata": {},
   "outputs": [
    {
     "data": {
      "text/html": [
       "<div>\n",
       "<style scoped>\n",
       "    .dataframe tbody tr th:only-of-type {\n",
       "        vertical-align: middle;\n",
       "    }\n",
       "\n",
       "    .dataframe tbody tr th {\n",
       "        vertical-align: top;\n",
       "    }\n",
       "\n",
       "    .dataframe thead th {\n",
       "        text-align: right;\n",
       "    }\n",
       "</style>\n",
       "<table border=\"1\" class=\"dataframe\">\n",
       "  <thead>\n",
       "    <tr style=\"text-align: right;\">\n",
       "      <th></th>\n",
       "      <th>CreditScore</th>\n",
       "      <th>Age</th>\n",
       "      <th>Tenure</th>\n",
       "      <th>Balance</th>\n",
       "      <th>NumOfProducts</th>\n",
       "      <th>EstimatedSalary</th>\n",
       "    </tr>\n",
       "  </thead>\n",
       "  <tbody>\n",
       "    <tr>\n",
       "      <th>count</th>\n",
       "      <td>10000.000000</td>\n",
       "      <td>10000.000000</td>\n",
       "      <td>10000.000000</td>\n",
       "      <td>10000.000000</td>\n",
       "      <td>10000.000000</td>\n",
       "      <td>10000.000000</td>\n",
       "    </tr>\n",
       "    <tr>\n",
       "      <th>mean</th>\n",
       "      <td>650.528800</td>\n",
       "      <td>38.921800</td>\n",
       "      <td>5.012800</td>\n",
       "      <td>76485.889288</td>\n",
       "      <td>1.530200</td>\n",
       "      <td>100090.239881</td>\n",
       "    </tr>\n",
       "    <tr>\n",
       "      <th>std</th>\n",
       "      <td>96.653299</td>\n",
       "      <td>10.487806</td>\n",
       "      <td>2.892174</td>\n",
       "      <td>62397.405202</td>\n",
       "      <td>0.581654</td>\n",
       "      <td>57510.492818</td>\n",
       "    </tr>\n",
       "    <tr>\n",
       "      <th>min</th>\n",
       "      <td>350.000000</td>\n",
       "      <td>18.000000</td>\n",
       "      <td>0.000000</td>\n",
       "      <td>0.000000</td>\n",
       "      <td>1.000000</td>\n",
       "      <td>11.580000</td>\n",
       "    </tr>\n",
       "    <tr>\n",
       "      <th>25%</th>\n",
       "      <td>584.000000</td>\n",
       "      <td>32.000000</td>\n",
       "      <td>3.000000</td>\n",
       "      <td>0.000000</td>\n",
       "      <td>1.000000</td>\n",
       "      <td>51002.110000</td>\n",
       "    </tr>\n",
       "    <tr>\n",
       "      <th>50%</th>\n",
       "      <td>652.000000</td>\n",
       "      <td>37.000000</td>\n",
       "      <td>5.000000</td>\n",
       "      <td>97198.540000</td>\n",
       "      <td>1.000000</td>\n",
       "      <td>100193.915000</td>\n",
       "    </tr>\n",
       "    <tr>\n",
       "      <th>75%</th>\n",
       "      <td>718.000000</td>\n",
       "      <td>44.000000</td>\n",
       "      <td>7.000000</td>\n",
       "      <td>127644.240000</td>\n",
       "      <td>2.000000</td>\n",
       "      <td>149388.247500</td>\n",
       "    </tr>\n",
       "    <tr>\n",
       "      <th>max</th>\n",
       "      <td>850.000000</td>\n",
       "      <td>92.000000</td>\n",
       "      <td>10.000000</td>\n",
       "      <td>250898.090000</td>\n",
       "      <td>4.000000</td>\n",
       "      <td>199992.480000</td>\n",
       "    </tr>\n",
       "  </tbody>\n",
       "</table>\n",
       "</div>"
      ],
      "text/plain": [
       "        CreditScore           Age        Tenure        Balance  NumOfProducts  \\\n",
       "count  10000.000000  10000.000000  10000.000000   10000.000000   10000.000000   \n",
       "mean     650.528800     38.921800      5.012800   76485.889288       1.530200   \n",
       "std       96.653299     10.487806      2.892174   62397.405202       0.581654   \n",
       "min      350.000000     18.000000      0.000000       0.000000       1.000000   \n",
       "25%      584.000000     32.000000      3.000000       0.000000       1.000000   \n",
       "50%      652.000000     37.000000      5.000000   97198.540000       1.000000   \n",
       "75%      718.000000     44.000000      7.000000  127644.240000       2.000000   \n",
       "max      850.000000     92.000000     10.000000  250898.090000       4.000000   \n",
       "\n",
       "       EstimatedSalary  \n",
       "count     10000.000000  \n",
       "mean     100090.239881  \n",
       "std       57510.492818  \n",
       "min          11.580000  \n",
       "25%       51002.110000  \n",
       "50%      100193.915000  \n",
       "75%      149388.247500  \n",
       "max      199992.480000  "
      ]
     },
     "execution_count": 21,
     "metadata": {},
     "output_type": "execute_result"
    }
   ],
   "source": [
    "data[f_num].describe()"
   ]
  },
  {
   "cell_type": "code",
   "execution_count": 22,
   "id": "qualified-carry",
   "metadata": {},
   "outputs": [
    {
     "data": {
      "image/png": "[encoded data removed]",
      "text/plain": [
       "<Figure size 720x360 with 2 Axes>"
      ]
     },
     "metadata": {
      "needs_background": "light"
     },
     "output_type": "display_data"
    },
    {
     "data": {
      "image/png": "[encoded data removed]",
      "text/plain": [
       "<Figure size 720x360 with 2 Axes>"
      ]
     },
     "metadata": {
      "needs_background": "light"
     },
     "output_type": "display_data"
    },
    {
     "data": {
      "image/png": "[encoded data removed]",
      "text/plain": [
       "<Figure size 720x360 with 2 Axes>"
      ]
     },
     "metadata": {
      "needs_background": "light"
     },
     "output_type": "display_data"
    },
    {
     "data": {
      "image/png": "[encoded data removed]",
      "text/plain": [
       "<Figure size 720x360 with 2 Axes>"
      ]
     },
     "metadata": {
      "needs_background": "light"
     },
     "output_type": "display_data"
    },
    {
     "data": {
      "image/png": "[encoded data removed]",
      "text/plain": [
       "<Figure size 720x360 with 2 Axes>"
      ]
     },
     "metadata": {
      "needs_background": "light"
     },
     "output_type": "display_data"
    },
    {
     "data": {
      "image/png": "[encoded data removed]",
      "text/plain": [
       "<Figure size 720x360 with 2 Axes>"
      ]
     },
     "metadata": {
      "needs_background": "light"
     },
     "output_type": "display_data"
    }
   ],
   "source": [
    "num_feat_plot(data, f_num, 'Exited')"
   ]
  },
  {
   "cell_type": "code",
   "execution_count": 23,
   "id": "faced-screening",
   "metadata": {},
   "outputs": [
    {
     "data": {
      "text/plain": [
       "<AxesSubplot:>"
      ]
     },
     "execution_count": 23,
     "metadata": {},
     "output_type": "execute_result"
    },
    {
     "data": {
      "image/png": "[encoded data removed]",
      "text/plain": [
       "<Figure size 720x720 with 2 Axes>"
      ]
     },
     "metadata": {
      "needs_background": "light"
     },
     "output_type": "display_data"
    }
   ],
   "source": [
    "fig, ax = plt.subplots(figsize=(10,10))\n",
    "corr = data[f_num + target].corr(method='pearson')\n",
    "mask = np.triu(np.ones_like(corr, dtype=bool))\n",
    "sns.heatmap(corr * 100, center=0, annot=True, square=True, ax=ax, mask=mask)"
   ]
  },
  {
   "cell_type": "markdown",
   "id": "spiritual-auckland",
   "metadata": {},
   "source": [
    "##### NumOfProducts"
   ]
  },
  {
   "cell_type": "code",
   "execution_count": 24,
   "id": "sublime-burden",
   "metadata": {},
   "outputs": [
    {
     "data": {
      "text/html": [
       "<div>\n",
       "<style scoped>\n",
       "    .dataframe tbody tr th:only-of-type {\n",
       "        vertical-align: middle;\n",
       "    }\n",
       "\n",
       "    .dataframe tbody tr th {\n",
       "        vertical-align: top;\n",
       "    }\n",
       "\n",
       "    .dataframe thead th {\n",
       "        text-align: right;\n",
       "    }\n",
       "</style>\n",
       "<table border=\"1\" class=\"dataframe\">\n",
       "  <thead>\n",
       "    <tr style=\"text-align: right;\">\n",
       "      <th></th>\n",
       "      <th>NumOfProducts</th>\n",
       "      <th>total</th>\n",
       "      <th>exited</th>\n",
       "      <th>%</th>\n",
       "    </tr>\n",
       "  </thead>\n",
       "  <tbody>\n",
       "    <tr>\n",
       "      <th>0</th>\n",
       "      <td>1</td>\n",
       "      <td>5084</td>\n",
       "      <td>1409</td>\n",
       "      <td>27.7</td>\n",
       "    </tr>\n",
       "    <tr>\n",
       "      <th>1</th>\n",
       "      <td>2</td>\n",
       "      <td>4590</td>\n",
       "      <td>348</td>\n",
       "      <td>7.6</td>\n",
       "    </tr>\n",
       "    <tr>\n",
       "      <th>2</th>\n",
       "      <td>3</td>\n",
       "      <td>266</td>\n",
       "      <td>220</td>\n",
       "      <td>82.7</td>\n",
       "    </tr>\n",
       "    <tr>\n",
       "      <th>3</th>\n",
       "      <td>4</td>\n",
       "      <td>60</td>\n",
       "      <td>60</td>\n",
       "      <td>100.0</td>\n",
       "    </tr>\n",
       "  </tbody>\n",
       "</table>\n",
       "</div>"
      ],
      "text/plain": [
       "   NumOfProducts  total  exited      %\n",
       "0              1   5084    1409   27.7\n",
       "1              2   4590     348    7.6\n",
       "2              3    266     220   82.7\n",
       "3              4     60      60  100.0"
      ]
     },
     "execution_count": 24,
     "metadata": {},
     "output_type": "execute_result"
    }
   ],
   "source": [
    "temp = data \\\n",
    "    .groupby(['NumOfProducts'], dropna=False)['Exited'] \\\n",
    "    .agg(['count', 'sum']) \\\n",
    "    .reset_index() \\\n",
    "    .rename(columns={'count': 'total', 'sum': 'exited'})\n",
    "\n",
    "temp['%'] = round(temp['exited'] / temp['total']  * 100, 1)\n",
    "temp"
   ]
  },
  {
   "cell_type": "markdown",
   "id": "chinese-retirement",
   "metadata": {},
   "source": [
    "> Если у клиента 3 или 4 продукта, тем выше частота ухода с максимумом 100% для 4х продуктов. </br>\n",
    "Гипотезы о причинах:\n",
    "> - то ли стечение обстоятельств (например, все были зарплатными клиентами, а компания потом сменила банк для зарплатного проекта), \n",
    "> - то ли нарушено правило формирования выборки,\n",
    "> - то ли у банка проблемы с управление сразу нескольких продуктов у одного клиента, \n",
    "> - то ли накапливается критическая масса проблем и клиентам надоедает\n",
    "\n",
    "> Переведем переменную количества продуктов в бинарные переменные."
   ]
  },
  {
   "cell_type": "markdown",
   "id": "mounted-briefing",
   "metadata": {},
   "source": [
    "##### Tenure"
   ]
  },
  {
   "cell_type": "code",
   "execution_count": 25,
   "id": "hydraulic-photographer",
   "metadata": {},
   "outputs": [
    {
     "data": {
      "text/html": [
       "<div>\n",
       "<style scoped>\n",
       "    .dataframe tbody tr th:only-of-type {\n",
       "        vertical-align: middle;\n",
       "    }\n",
       "\n",
       "    .dataframe tbody tr th {\n",
       "        vertical-align: top;\n",
       "    }\n",
       "\n",
       "    .dataframe thead th {\n",
       "        text-align: right;\n",
       "    }\n",
       "</style>\n",
       "<table border=\"1\" class=\"dataframe\">\n",
       "  <thead>\n",
       "    <tr style=\"text-align: right;\">\n",
       "      <th></th>\n",
       "      <th>Tenure</th>\n",
       "      <th>total</th>\n",
       "      <th>exited</th>\n",
       "      <th>%</th>\n",
       "    </tr>\n",
       "  </thead>\n",
       "  <tbody>\n",
       "    <tr>\n",
       "      <th>0</th>\n",
       "      <td>0</td>\n",
       "      <td>413</td>\n",
       "      <td>95</td>\n",
       "      <td>23.0</td>\n",
       "    </tr>\n",
       "    <tr>\n",
       "      <th>1</th>\n",
       "      <td>1</td>\n",
       "      <td>1035</td>\n",
       "      <td>232</td>\n",
       "      <td>22.4</td>\n",
       "    </tr>\n",
       "    <tr>\n",
       "      <th>2</th>\n",
       "      <td>2</td>\n",
       "      <td>1048</td>\n",
       "      <td>201</td>\n",
       "      <td>19.2</td>\n",
       "    </tr>\n",
       "    <tr>\n",
       "      <th>3</th>\n",
       "      <td>3</td>\n",
       "      <td>1009</td>\n",
       "      <td>213</td>\n",
       "      <td>21.1</td>\n",
       "    </tr>\n",
       "    <tr>\n",
       "      <th>4</th>\n",
       "      <td>4</td>\n",
       "      <td>989</td>\n",
       "      <td>203</td>\n",
       "      <td>20.5</td>\n",
       "    </tr>\n",
       "    <tr>\n",
       "      <th>5</th>\n",
       "      <td>5</td>\n",
       "      <td>1012</td>\n",
       "      <td>209</td>\n",
       "      <td>20.7</td>\n",
       "    </tr>\n",
       "    <tr>\n",
       "      <th>6</th>\n",
       "      <td>6</td>\n",
       "      <td>967</td>\n",
       "      <td>196</td>\n",
       "      <td>20.3</td>\n",
       "    </tr>\n",
       "    <tr>\n",
       "      <th>7</th>\n",
       "      <td>7</td>\n",
       "      <td>1028</td>\n",
       "      <td>177</td>\n",
       "      <td>17.2</td>\n",
       "    </tr>\n",
       "    <tr>\n",
       "      <th>8</th>\n",
       "      <td>8</td>\n",
       "      <td>1025</td>\n",
       "      <td>197</td>\n",
       "      <td>19.2</td>\n",
       "    </tr>\n",
       "    <tr>\n",
       "      <th>9</th>\n",
       "      <td>9</td>\n",
       "      <td>984</td>\n",
       "      <td>213</td>\n",
       "      <td>21.6</td>\n",
       "    </tr>\n",
       "    <tr>\n",
       "      <th>10</th>\n",
       "      <td>10</td>\n",
       "      <td>490</td>\n",
       "      <td>101</td>\n",
       "      <td>20.6</td>\n",
       "    </tr>\n",
       "  </tbody>\n",
       "</table>\n",
       "</div>"
      ],
      "text/plain": [
       "    Tenure  total  exited     %\n",
       "0        0    413      95  23.0\n",
       "1        1   1035     232  22.4\n",
       "2        2   1048     201  19.2\n",
       "3        3   1009     213  21.1\n",
       "4        4    989     203  20.5\n",
       "5        5   1012     209  20.7\n",
       "6        6    967     196  20.3\n",
       "7        7   1028     177  17.2\n",
       "8        8   1025     197  19.2\n",
       "9        9    984     213  21.6\n",
       "10      10    490     101  20.6"
      ]
     },
     "execution_count": 25,
     "metadata": {},
     "output_type": "execute_result"
    }
   ],
   "source": [
    "temp = data \\\n",
    "    .groupby(['Tenure'], dropna=False)['Exited'] \\\n",
    "    .agg(['count', 'sum']) \\\n",
    "    .reset_index() \\\n",
    "    .rename(columns={'count': 'total', 'sum': 'exited'})\n",
    "\n",
    "temp['%'] = round(temp['exited'] / temp['total']  * 100, 1)\n",
    "temp"
   ]
  },
  {
   "cell_type": "code",
   "execution_count": 26,
   "id": "respiratory-resource",
   "metadata": {},
   "outputs": [
    {
     "data": {
      "image/png": "[encoded data removed]",
      "text/plain": [
       "<Figure size 720x720 with 2 Axes>"
      ]
     },
     "metadata": {
      "needs_background": "light"
     },
     "output_type": "display_data"
    }
   ],
   "source": [
    "# https://sonalake.com/latest/hypothesis-testing-of-proportion-based-samples/\n",
    "significance = 0.05\n",
    "for tenure_b in temp['Tenure']:\n",
    "    sample_success_b = int(temp.loc[temp['Tenure'] == tenure_b , 'exited'])\n",
    "    sample_size_b = int(temp.loc[temp['Tenure'] == tenure_b , 'total'])\n",
    "    \n",
    "    sample_success_a, sample_size_a = (temp['exited'], temp['total'])\n",
    "    successes = np.array([sample_success_a, sample_success_b], dtype=object)\n",
    "    samples =  np.array([sample_size_a, sample_size_b], dtype=object)\n",
    "    stat, p_value = proportions_ztest(count=successes, nobs=samples,  alternative='two-sided')\n",
    "    \n",
    "    temp[tenure_b] = p_value\n",
    "\n",
    "\n",
    "fig, ax = plt.subplots(figsize=(10,10))\n",
    "pvalues = temp[[ 0, 1, 2, 3, 4, 5, 6, 7, 8, 9, 10]] \n",
    "mask = np.invert(np.tril(pvalues<=0.05))\n",
    "sns.heatmap(pvalues, center=0, annot=True, square=True, ax=ax, mask=mask)\n",
    "\n",
    "for col in [ 0, 1, 2, 3, 4, 5, 6, 7, 8, 9, 10]:\n",
    "    temp[col]= np.where(temp[col] > 0.05, 'Fail to reject H0', 'Reject H0')"
   ]
  },
  {
   "cell_type": "code",
   "execution_count": 27,
   "id": "severe-immunology",
   "metadata": {},
   "outputs": [
    {
     "data": {
      "text/html": [
       "<div>\n",
       "<style scoped>\n",
       "    .dataframe tbody tr th:only-of-type {\n",
       "        vertical-align: middle;\n",
       "    }\n",
       "\n",
       "    .dataframe tbody tr th {\n",
       "        vertical-align: top;\n",
       "    }\n",
       "\n",
       "    .dataframe thead th {\n",
       "        text-align: right;\n",
       "    }\n",
       "</style>\n",
       "<table border=\"1\" class=\"dataframe\">\n",
       "  <thead>\n",
       "    <tr style=\"text-align: right;\">\n",
       "      <th></th>\n",
       "      <th>Tenure</th>\n",
       "      <th>total</th>\n",
       "      <th>exited</th>\n",
       "      <th>%</th>\n",
       "      <th>0</th>\n",
       "      <th>1</th>\n",
       "      <th>2</th>\n",
       "      <th>3</th>\n",
       "      <th>4</th>\n",
       "      <th>5</th>\n",
       "      <th>6</th>\n",
       "      <th>7</th>\n",
       "      <th>8</th>\n",
       "      <th>9</th>\n",
       "      <th>10</th>\n",
       "    </tr>\n",
       "  </thead>\n",
       "  <tbody>\n",
       "    <tr>\n",
       "      <th>0</th>\n",
       "      <td>0</td>\n",
       "      <td>413</td>\n",
       "      <td>95</td>\n",
       "      <td>23.0</td>\n",
       "      <td>Fail to reject H0</td>\n",
       "      <td>Fail to reject H0</td>\n",
       "      <td>Fail to reject H0</td>\n",
       "      <td>Fail to reject H0</td>\n",
       "      <td>Fail to reject H0</td>\n",
       "      <td>Fail to reject H0</td>\n",
       "      <td>Fail to reject H0</td>\n",
       "      <td>Reject H0</td>\n",
       "      <td>Fail to reject H0</td>\n",
       "      <td>Fail to reject H0</td>\n",
       "      <td>Fail to reject H0</td>\n",
       "    </tr>\n",
       "    <tr>\n",
       "      <th>1</th>\n",
       "      <td>1</td>\n",
       "      <td>1035</td>\n",
       "      <td>232</td>\n",
       "      <td>22.4</td>\n",
       "      <td>Fail to reject H0</td>\n",
       "      <td>Fail to reject H0</td>\n",
       "      <td>Fail to reject H0</td>\n",
       "      <td>Fail to reject H0</td>\n",
       "      <td>Fail to reject H0</td>\n",
       "      <td>Fail to reject H0</td>\n",
       "      <td>Fail to reject H0</td>\n",
       "      <td>Reject H0</td>\n",
       "      <td>Fail to reject H0</td>\n",
       "      <td>Fail to reject H0</td>\n",
       "      <td>Fail to reject H0</td>\n",
       "    </tr>\n",
       "    <tr>\n",
       "      <th>2</th>\n",
       "      <td>2</td>\n",
       "      <td>1048</td>\n",
       "      <td>201</td>\n",
       "      <td>19.2</td>\n",
       "      <td>Fail to reject H0</td>\n",
       "      <td>Fail to reject H0</td>\n",
       "      <td>Fail to reject H0</td>\n",
       "      <td>Fail to reject H0</td>\n",
       "      <td>Fail to reject H0</td>\n",
       "      <td>Fail to reject H0</td>\n",
       "      <td>Fail to reject H0</td>\n",
       "      <td>Fail to reject H0</td>\n",
       "      <td>Fail to reject H0</td>\n",
       "      <td>Fail to reject H0</td>\n",
       "      <td>Fail to reject H0</td>\n",
       "    </tr>\n",
       "    <tr>\n",
       "      <th>3</th>\n",
       "      <td>3</td>\n",
       "      <td>1009</td>\n",
       "      <td>213</td>\n",
       "      <td>21.1</td>\n",
       "      <td>Fail to reject H0</td>\n",
       "      <td>Fail to reject H0</td>\n",
       "      <td>Fail to reject H0</td>\n",
       "      <td>Fail to reject H0</td>\n",
       "      <td>Fail to reject H0</td>\n",
       "      <td>Fail to reject H0</td>\n",
       "      <td>Fail to reject H0</td>\n",
       "      <td>Reject H0</td>\n",
       "      <td>Fail to reject H0</td>\n",
       "      <td>Fail to reject H0</td>\n",
       "      <td>Fail to reject H0</td>\n",
       "    </tr>\n",
       "    <tr>\n",
       "      <th>4</th>\n",
       "      <td>4</td>\n",
       "      <td>989</td>\n",
       "      <td>203</td>\n",
       "      <td>20.5</td>\n",
       "      <td>Fail to reject H0</td>\n",
       "      <td>Fail to reject H0</td>\n",
       "      <td>Fail to reject H0</td>\n",
       "      <td>Fail to reject H0</td>\n",
       "      <td>Fail to reject H0</td>\n",
       "      <td>Fail to reject H0</td>\n",
       "      <td>Fail to reject H0</td>\n",
       "      <td>Fail to reject H0</td>\n",
       "      <td>Fail to reject H0</td>\n",
       "      <td>Fail to reject H0</td>\n",
       "      <td>Fail to reject H0</td>\n",
       "    </tr>\n",
       "    <tr>\n",
       "      <th>5</th>\n",
       "      <td>5</td>\n",
       "      <td>1012</td>\n",
       "      <td>209</td>\n",
       "      <td>20.7</td>\n",
       "      <td>Fail to reject H0</td>\n",
       "      <td>Fail to reject H0</td>\n",
       "      <td>Fail to reject H0</td>\n",
       "      <td>Fail to reject H0</td>\n",
       "      <td>Fail to reject H0</td>\n",
       "      <td>Fail to reject H0</td>\n",
       "      <td>Fail to reject H0</td>\n",
       "      <td>Reject H0</td>\n",
       "      <td>Fail to reject H0</td>\n",
       "      <td>Fail to reject H0</td>\n",
       "      <td>Fail to reject H0</td>\n",
       "    </tr>\n",
       "    <tr>\n",
       "      <th>6</th>\n",
       "      <td>6</td>\n",
       "      <td>967</td>\n",
       "      <td>196</td>\n",
       "      <td>20.3</td>\n",
       "      <td>Fail to reject H0</td>\n",
       "      <td>Fail to reject H0</td>\n",
       "      <td>Fail to reject H0</td>\n",
       "      <td>Fail to reject H0</td>\n",
       "      <td>Fail to reject H0</td>\n",
       "      <td>Fail to reject H0</td>\n",
       "      <td>Fail to reject H0</td>\n",
       "      <td>Fail to reject H0</td>\n",
       "      <td>Fail to reject H0</td>\n",
       "      <td>Fail to reject H0</td>\n",
       "      <td>Fail to reject H0</td>\n",
       "    </tr>\n",
       "    <tr>\n",
       "      <th>7</th>\n",
       "      <td>7</td>\n",
       "      <td>1028</td>\n",
       "      <td>177</td>\n",
       "      <td>17.2</td>\n",
       "      <td>Reject H0</td>\n",
       "      <td>Reject H0</td>\n",
       "      <td>Fail to reject H0</td>\n",
       "      <td>Reject H0</td>\n",
       "      <td>Fail to reject H0</td>\n",
       "      <td>Reject H0</td>\n",
       "      <td>Fail to reject H0</td>\n",
       "      <td>Fail to reject H0</td>\n",
       "      <td>Fail to reject H0</td>\n",
       "      <td>Reject H0</td>\n",
       "      <td>Fail to reject H0</td>\n",
       "    </tr>\n",
       "    <tr>\n",
       "      <th>8</th>\n",
       "      <td>8</td>\n",
       "      <td>1025</td>\n",
       "      <td>197</td>\n",
       "      <td>19.2</td>\n",
       "      <td>Fail to reject H0</td>\n",
       "      <td>Fail to reject H0</td>\n",
       "      <td>Fail to reject H0</td>\n",
       "      <td>Fail to reject H0</td>\n",
       "      <td>Fail to reject H0</td>\n",
       "      <td>Fail to reject H0</td>\n",
       "      <td>Fail to reject H0</td>\n",
       "      <td>Fail to reject H0</td>\n",
       "      <td>Fail to reject H0</td>\n",
       "      <td>Fail to reject H0</td>\n",
       "      <td>Fail to reject H0</td>\n",
       "    </tr>\n",
       "    <tr>\n",
       "      <th>9</th>\n",
       "      <td>9</td>\n",
       "      <td>984</td>\n",
       "      <td>213</td>\n",
       "      <td>21.6</td>\n",
       "      <td>Fail to reject H0</td>\n",
       "      <td>Fail to reject H0</td>\n",
       "      <td>Fail to reject H0</td>\n",
       "      <td>Fail to reject H0</td>\n",
       "      <td>Fail to reject H0</td>\n",
       "      <td>Fail to reject H0</td>\n",
       "      <td>Fail to reject H0</td>\n",
       "      <td>Reject H0</td>\n",
       "      <td>Fail to reject H0</td>\n",
       "      <td>Fail to reject H0</td>\n",
       "      <td>Fail to reject H0</td>\n",
       "    </tr>\n",
       "    <tr>\n",
       "      <th>10</th>\n",
       "      <td>10</td>\n",
       "      <td>490</td>\n",
       "      <td>101</td>\n",
       "      <td>20.6</td>\n",
       "      <td>Fail to reject H0</td>\n",
       "      <td>Fail to reject H0</td>\n",
       "      <td>Fail to reject H0</td>\n",
       "      <td>Fail to reject H0</td>\n",
       "      <td>Fail to reject H0</td>\n",
       "      <td>Fail to reject H0</td>\n",
       "      <td>Fail to reject H0</td>\n",
       "      <td>Fail to reject H0</td>\n",
       "      <td>Fail to reject H0</td>\n",
       "      <td>Fail to reject H0</td>\n",
       "      <td>Fail to reject H0</td>\n",
       "    </tr>\n",
       "  </tbody>\n",
       "</table>\n",
       "</div>"
      ],
      "text/plain": [
       "    Tenure  total  exited     %                  0                  1  \\\n",
       "0        0    413      95  23.0  Fail to reject H0  Fail to reject H0   \n",
       "1        1   1035     232  22.4  Fail to reject H0  Fail to reject H0   \n",
       "2        2   1048     201  19.2  Fail to reject H0  Fail to reject H0   \n",
       "3        3   1009     213  21.1  Fail to reject H0  Fail to reject H0   \n",
       "4        4    989     203  20.5  Fail to reject H0  Fail to reject H0   \n",
       "5        5   1012     209  20.7  Fail to reject H0  Fail to reject H0   \n",
       "6        6    967     196  20.3  Fail to reject H0  Fail to reject H0   \n",
       "7        7   1028     177  17.2          Reject H0          Reject H0   \n",
       "8        8   1025     197  19.2  Fail to reject H0  Fail to reject H0   \n",
       "9        9    984     213  21.6  Fail to reject H0  Fail to reject H0   \n",
       "10      10    490     101  20.6  Fail to reject H0  Fail to reject H0   \n",
       "\n",
       "                    2                  3                  4  \\\n",
       "0   Fail to reject H0  Fail to reject H0  Fail to reject H0   \n",
       "1   Fail to reject H0  Fail to reject H0  Fail to reject H0   \n",
       "2   Fail to reject H0  Fail to reject H0  Fail to reject H0   \n",
       "3   Fail to reject H0  Fail to reject H0  Fail to reject H0   \n",
       "4   Fail to reject H0  Fail to reject H0  Fail to reject H0   \n",
       "5   Fail to reject H0  Fail to reject H0  Fail to reject H0   \n",
       "6   Fail to reject H0  Fail to reject H0  Fail to reject H0   \n",
       "7   Fail to reject H0          Reject H0  Fail to reject H0   \n",
       "8   Fail to reject H0  Fail to reject H0  Fail to reject H0   \n",
       "9   Fail to reject H0  Fail to reject H0  Fail to reject H0   \n",
       "10  Fail to reject H0  Fail to reject H0  Fail to reject H0   \n",
       "\n",
       "                    5                  6                  7  \\\n",
       "0   Fail to reject H0  Fail to reject H0          Reject H0   \n",
       "1   Fail to reject H0  Fail to reject H0          Reject H0   \n",
       "2   Fail to reject H0  Fail to reject H0  Fail to reject H0   \n",
       "3   Fail to reject H0  Fail to reject H0          Reject H0   \n",
       "4   Fail to reject H0  Fail to reject H0  Fail to reject H0   \n",
       "5   Fail to reject H0  Fail to reject H0          Reject H0   \n",
       "6   Fail to reject H0  Fail to reject H0  Fail to reject H0   \n",
       "7           Reject H0  Fail to reject H0  Fail to reject H0   \n",
       "8   Fail to reject H0  Fail to reject H0  Fail to reject H0   \n",
       "9   Fail to reject H0  Fail to reject H0          Reject H0   \n",
       "10  Fail to reject H0  Fail to reject H0  Fail to reject H0   \n",
       "\n",
       "                    8                  9                 10  \n",
       "0   Fail to reject H0  Fail to reject H0  Fail to reject H0  \n",
       "1   Fail to reject H0  Fail to reject H0  Fail to reject H0  \n",
       "2   Fail to reject H0  Fail to reject H0  Fail to reject H0  \n",
       "3   Fail to reject H0  Fail to reject H0  Fail to reject H0  \n",
       "4   Fail to reject H0  Fail to reject H0  Fail to reject H0  \n",
       "5   Fail to reject H0  Fail to reject H0  Fail to reject H0  \n",
       "6   Fail to reject H0  Fail to reject H0  Fail to reject H0  \n",
       "7   Fail to reject H0          Reject H0  Fail to reject H0  \n",
       "8   Fail to reject H0  Fail to reject H0  Fail to reject H0  \n",
       "9   Fail to reject H0  Fail to reject H0  Fail to reject H0  \n",
       "10  Fail to reject H0  Fail to reject H0  Fail to reject H0  "
      ]
     },
     "execution_count": 27,
     "metadata": {},
     "output_type": "execute_result"
    }
   ],
   "source": [
    "temp"
   ]
  },
  {
   "cell_type": "markdown",
   "id": "surprising-draft",
   "metadata": {},
   "source": [
    "> Была видвинута нулевая гипотеза, что % ухода одинаков от года к году. </br>\n",
    "> Для всех лет, кроме 7го года, не удалось опровергнуть нулевую гипотезу. </br>\n",
    "> При сравнении % ухода 7-го года с 0-м, 1-м и 5-м годами нулевая гипотеза о равенстве % ухода отклонена при уровне значимости 5%. </br>\n",
    "\n",
    "> Можно попробовать преобразовать tenure в бинарные переменные и посмотреть на качество модели при использовании этих переменных, но не ожидаю какого-то вразумительного результата."
   ]
  },
  {
   "cell_type": "markdown",
   "id": "selected-arkansas",
   "metadata": {},
   "source": [
    "##### Balance"
   ]
  },
  {
   "cell_type": "code",
   "execution_count": 28,
   "id": "mediterranean-enhancement",
   "metadata": {},
   "outputs": [
    {
     "data": {
      "text/html": [
       "<div>\n",
       "<style scoped>\n",
       "    .dataframe tbody tr th:only-of-type {\n",
       "        vertical-align: middle;\n",
       "    }\n",
       "\n",
       "    .dataframe tbody tr th {\n",
       "        vertical-align: top;\n",
       "    }\n",
       "\n",
       "    .dataframe thead th {\n",
       "        text-align: right;\n",
       "    }\n",
       "</style>\n",
       "<table border=\"1\" class=\"dataframe\">\n",
       "  <thead>\n",
       "    <tr style=\"text-align: right;\">\n",
       "      <th></th>\n",
       "      <th>Balance</th>\n",
       "      <th>total</th>\n",
       "      <th>exited</th>\n",
       "      <th>%</th>\n",
       "    </tr>\n",
       "  </thead>\n",
       "  <tbody>\n",
       "    <tr>\n",
       "      <th>0</th>\n",
       "      <td>0.0</td>\n",
       "      <td>3617</td>\n",
       "      <td>500</td>\n",
       "      <td>13.8</td>\n",
       "    </tr>\n",
       "  </tbody>\n",
       "</table>\n",
       "</div>"
      ],
      "text/plain": [
       "   Balance  total  exited     %\n",
       "0      0.0   3617     500  13.8"
      ]
     },
     "execution_count": 28,
     "metadata": {},
     "output_type": "execute_result"
    }
   ],
   "source": [
    "temp = data[data['Balance'] == 0] \\\n",
    "    .groupby(['Balance'], dropna=False)['Exited'] \\\n",
    "    .agg(['count', 'sum']) \\\n",
    "    .reset_index() \\\n",
    "    .rename(columns={'count': 'total', 'sum': 'exited'})\n",
    "\n",
    "temp['%'] = round(temp['exited'] / temp['total']  * 100, 1)\n",
    "temp"
   ]
  },
  {
   "cell_type": "code",
   "execution_count": 29,
   "id": "worthy-wrapping",
   "metadata": {},
   "outputs": [
    {
     "name": "stdout",
     "output_type": "stream",
     "text": [
      "Нижняя граница 41186.5025 и верхняя граница 159177.4475\n"
     ]
    }
   ],
   "source": [
    "temp = data[data['Balance'] != 0]\n",
    "q_l, q_h = iqr(temp, 'Balance')\n",
    "print('Нижняя граница {} и верхняя граница {}'.format(q_l, q_h))"
   ]
  },
  {
   "cell_type": "code",
   "execution_count": 30,
   "id": "portuguese-father",
   "metadata": {},
   "outputs": [
    {
     "data": {
      "image/png": "[encoded data removed]",
      "text/plain": [
       "<Figure size 720x360 with 2 Axes>"
      ]
     },
     "metadata": {
      "needs_background": "light"
     },
     "output_type": "display_data"
    }
   ],
   "source": [
    "num_feat_plot(data[data['Balance'] != 0], ['Balance'], 'Exited')"
   ]
  },
  {
   "cell_type": "markdown",
   "id": "advisory-crawford",
   "metadata": {},
   "source": [
    "> Думаю, стоит добавить бинарную переменную, нулевой баланс или нет, а сам баланс стандартизировать, если буду применять переменную."
   ]
  },
  {
   "cell_type": "markdown",
   "id": "plastic-boards",
   "metadata": {},
   "source": [
    "> Думаю, стоит добавить также бинарные переменные: выше 0 и ниже 41186.5025 , выше 159177.4475."
   ]
  },
  {
   "cell_type": "markdown",
   "id": "aware-desperate",
   "metadata": {},
   "source": [
    "##### CreditScore"
   ]
  },
  {
   "cell_type": "code",
   "execution_count": 31,
   "id": "tracked-costa",
   "metadata": {},
   "outputs": [
    {
     "name": "stdout",
     "output_type": "stream",
     "text": [
      "Нижняя граница 383.0 и верхняя граница 785.0\n"
     ]
    }
   ],
   "source": [
    "q_l, q_h = iqr(data, 'CreditScore')\n",
    "print('Нижняя граница {} и верхняя граница {}'.format(q_l, q_h))"
   ]
  },
  {
   "cell_type": "code",
   "execution_count": 32,
   "id": "amateur-basic",
   "metadata": {},
   "outputs": [
    {
     "data": {
      "image/png": "[encoded data removed]",
      "text/plain": [
       "<Figure size 720x360 with 2 Axes>"
      ]
     },
     "metadata": {
      "needs_background": "light"
     },
     "output_type": "display_data"
    },
    {
     "data": {
      "image/png": "[encoded data removed]",
      "text/plain": [
       "<Figure size 720x360 with 2 Axes>"
      ]
     },
     "metadata": {
      "needs_background": "light"
     },
     "output_type": "display_data"
    },
    {
     "data": {
      "image/png": "[encoded data removed]",
      "text/plain": [
       "<Figure size 720x360 with 2 Axes>"
      ]
     },
     "metadata": {
      "needs_background": "light"
     },
     "output_type": "display_data"
    },
    {
     "data": {
      "image/png": "[encoded data removed]",
      "text/plain": [
       "<Figure size 720x360 with 2 Axes>"
      ]
     },
     "metadata": {
      "needs_background": "light"
     },
     "output_type": "display_data"
    }
   ],
   "source": [
    "num_feat_plot(data, ['CreditScore'], 'Exited')\n",
    "num_feat_plot(data[(data['CreditScore'] > q_l) & (data['CreditScore'] < q_h)], ['CreditScore'], 'Exited')\n",
    "num_feat_plot(data[(data['CreditScore'] < q_l)], ['CreditScore'], 'Exited')\n",
    "num_feat_plot(data[(data['CreditScore'] > q_h)], ['CreditScore'], 'Exited')"
   ]
  },
  {
   "cell_type": "markdown",
   "id": "natural-council",
   "metadata": {},
   "source": [
    "> Думаю, стоит добавить бинарные переменные: ниже 383.0, выше 785.0."
   ]
  },
  {
   "cell_type": "markdown",
   "id": "expected-tulsa",
   "metadata": {},
   "source": [
    "##### Age"
   ]
  },
  {
   "cell_type": "code",
   "execution_count": 33,
   "id": "competitive-counter",
   "metadata": {},
   "outputs": [
    {
     "name": "stdout",
     "output_type": "stream",
     "text": [
      "Нижняя граница 14.0 и верхняя граница 50.0\n"
     ]
    }
   ],
   "source": [
    "q_l, q_h = iqr(data, 'Age')\n",
    "print('Нижняя граница {} и верхняя граница {}'.format(q_l, q_h))"
   ]
  },
  {
   "cell_type": "code",
   "execution_count": 34,
   "id": "industrial-strain",
   "metadata": {},
   "outputs": [
    {
     "data": {
      "image/png": "[encoded data removed]",
      "text/plain": [
       "<Figure size 720x360 with 2 Axes>"
      ]
     },
     "metadata": {
      "needs_background": "light"
     },
     "output_type": "display_data"
    },
    {
     "data": {
      "image/png": "[encoded data removed]",
      "text/plain": [
       "<Figure size 720x360 with 2 Axes>"
      ]
     },
     "metadata": {
      "needs_background": "light"
     },
     "output_type": "display_data"
    },
    {
     "data": {
      "image/png": "[encoded data removed]",
      "text/plain": [
       "<Figure size 720x360 with 2 Axes>"
      ]
     },
     "metadata": {
      "needs_background": "light"
     },
     "output_type": "display_data"
    },
    {
     "data": {
      "image/png": "[encoded data removed]",
      "text/plain": [
       "<Figure size 720x360 with 2 Axes>"
      ]
     },
     "metadata": {
      "needs_background": "light"
     },
     "output_type": "display_data"
    },
    {
     "data": {
      "image/png": "[encoded data removed]",
      "text/plain": [
       "<Figure size 720x360 with 2 Axes>"
      ]
     },
     "metadata": {
      "needs_background": "light"
     },
     "output_type": "display_data"
    }
   ],
   "source": [
    "num_feat_plot(data, ['Age'], 'Exited')\n",
    "num_feat_plot(data[(data['Age'] > q_l) & (data['Age'] < q_h)], ['Age'], 'Exited')\n",
    "num_feat_plot(data[(data['Age'] < q_l)], ['Age'], 'Exited')\n",
    "num_feat_plot(data[(data['Age'] > q_h)], ['Age'], 'Exited')\n",
    "num_feat_plot(data[(data['Age'] > 75)], ['Age'], 'Exited')"
   ]
  },
  {
   "cell_type": "code",
   "execution_count": 35,
   "id": "nearby-hospital",
   "metadata": {},
   "outputs": [
    {
     "data": {
      "image/png": "[encoded data removed]",
      "text/plain": [
       "<Figure size 432x288 with 1 Axes>"
      ]
     },
     "metadata": {
      "needs_background": "light"
     },
     "output_type": "display_data"
    },
    {
     "data": {
      "image/png": "[encoded data removed]",
      "text/plain": [
       "<Figure size 432x288 with 1 Axes>"
      ]
     },
     "metadata": {
      "needs_background": "light"
     },
     "output_type": "display_data"
    },
    {
     "data": {
      "image/png": "[encoded data removed]",
      "text/plain": [
       "<Figure size 432x288 with 1 Axes>"
      ]
     },
     "metadata": {
      "needs_background": "light"
     },
     "output_type": "display_data"
    }
   ],
   "source": [
    "for country in ['France', 'Spain', 'Germany']:\n",
    "    plt.title(country)\n",
    "    sns.histplot(data=data[data['Geography'] == country], x='Age', hue='Exited')\n",
    "    plt.show()"
   ]
  },
  {
   "cell_type": "markdown",
   "id": "cutting-roberts",
   "metadata": {},
   "source": [
    "> Похоже, необходимо учесть пенсионный возраст"
   ]
  },
  {
   "cell_type": "markdown",
   "id": "postal-oregon",
   "metadata": {},
   "source": [
    "#### Создадим новые переменные согласно комментариям выше"
   ]
  },
  {
   "cell_type": "markdown",
   "id": "incident-capacity",
   "metadata": {},
   "source": [
    "> 1. Обогатим данные - добавив, является ли клиент пенсионного возраста или нет"
   ]
  },
  {
   "cell_type": "code",
   "execution_count": 36,
   "id": "academic-wages",
   "metadata": {},
   "outputs": [],
   "source": [
    "data = data.merge(df_pension, how='left', on=['Geography', 'Gender'], right_index=False)\n",
    "data['IsPensionAge'] = np.where((data['Age'] >= data['PensionAge']), 1, 0)"
   ]
  },
  {
   "cell_type": "code",
   "execution_count": 37,
   "id": "chinese-helmet",
   "metadata": {},
   "outputs": [
    {
     "data": {
      "image/png": "[encoded data removed]",
      "text/plain": [
       "<Figure size 432x288 with 1 Axes>"
      ]
     },
     "metadata": {
      "needs_background": "light"
     },
     "output_type": "display_data"
    },
    {
     "data": {
      "image/png": "[encoded data removed]",
      "text/plain": [
       "<Figure size 432x288 with 1 Axes>"
      ]
     },
     "metadata": {
      "needs_background": "light"
     },
     "output_type": "display_data"
    },
    {
     "data": {
      "image/png": "[encoded data removed]",
      "text/plain": [
       "<Figure size 432x288 with 1 Axes>"
      ]
     },
     "metadata": {
      "needs_background": "light"
     },
     "output_type": "display_data"
    }
   ],
   "source": [
    "for country in ['France', 'Spain', 'Germany']:\n",
    "    plt.title(country)\n",
    "    \n",
    "    sns.histplot(\n",
    "        data=data[((data['Geography'] == country) & (data['IsPensionAge'] == 0))], \n",
    "        x='Age', \n",
    "        hue='Exited'\n",
    "    )\n",
    "    \n",
    "    plt.show()"
   ]
  },
  {
   "cell_type": "code",
   "execution_count": 38,
   "id": "fundamental-chain",
   "metadata": {},
   "outputs": [
    {
     "data": {
      "image/png": "[encoded data removed]",
      "text/plain": [
       "<Figure size 432x288 with 1 Axes>"
      ]
     },
     "metadata": {
      "needs_background": "light"
     },
     "output_type": "display_data"
    },
    {
     "data": {
      "image/png": "[encoded data removed]",
      "text/plain": [
       "<Figure size 432x288 with 1 Axes>"
      ]
     },
     "metadata": {
      "needs_background": "light"
     },
     "output_type": "display_data"
    },
    {
     "data": {
      "image/png": "[encoded data removed]",
      "text/plain": [
       "<Figure size 432x288 with 1 Axes>"
      ]
     },
     "metadata": {
      "needs_background": "light"
     },
     "output_type": "display_data"
    }
   ],
   "source": [
    "for country in ['France', 'Spain', 'Germany']:\n",
    "    plt.title(country)\n",
    "    \n",
    "    sns.histplot(\n",
    "        data=data[((data['Geography'] == country) & (data['IsPensionAge'] == 1))], \n",
    "        x='Age', \n",
    "        hue='Exited'\n",
    "    )\n",
    "    \n",
    "    plt.show()"
   ]
  },
  {
   "cell_type": "markdown",
   "id": "binding-child",
   "metadata": {},
   "source": [
    "> 2. Переведем категориальные переменные и числовые переменные Tenure и NumOfProducts в бинарные"
   ]
  },
  {
   "cell_type": "code",
   "execution_count": 39,
   "id": "united-asthma",
   "metadata": {},
   "outputs": [
    {
     "data": {
      "text/html": [
       "<div>\n",
       "<style scoped>\n",
       "    .dataframe tbody tr th:only-of-type {\n",
       "        vertical-align: middle;\n",
       "    }\n",
       "\n",
       "    .dataframe tbody tr th {\n",
       "        vertical-align: top;\n",
       "    }\n",
       "\n",
       "    .dataframe thead th {\n",
       "        text-align: right;\n",
       "    }\n",
       "</style>\n",
       "<table border=\"1\" class=\"dataframe\">\n",
       "  <thead>\n",
       "    <tr style=\"text-align: right;\">\n",
       "      <th></th>\n",
       "      <th>France</th>\n",
       "      <th>Germany</th>\n",
       "      <th>Spain</th>\n",
       "      <th>Female</th>\n",
       "      <th>Male</th>\n",
       "      <th>Tenure-0</th>\n",
       "      <th>Tenure-1</th>\n",
       "      <th>Tenure-2</th>\n",
       "      <th>Tenure-3</th>\n",
       "      <th>Tenure-4</th>\n",
       "      <th>Tenure-5</th>\n",
       "      <th>Tenure-6</th>\n",
       "      <th>Tenure-7</th>\n",
       "      <th>Tenure-8</th>\n",
       "      <th>Tenure-9</th>\n",
       "      <th>Tenure-10</th>\n",
       "      <th>NumOfPr-1</th>\n",
       "      <th>NumOfPr-2</th>\n",
       "      <th>NumOfPr-3</th>\n",
       "      <th>NumOfPr-4</th>\n",
       "    </tr>\n",
       "  </thead>\n",
       "  <tbody>\n",
       "    <tr>\n",
       "      <th>0</th>\n",
       "      <td>1.0</td>\n",
       "      <td>0.0</td>\n",
       "      <td>0.0</td>\n",
       "      <td>1.0</td>\n",
       "      <td>0.0</td>\n",
       "      <td>0.0</td>\n",
       "      <td>0.0</td>\n",
       "      <td>1.0</td>\n",
       "      <td>0.0</td>\n",
       "      <td>0.0</td>\n",
       "      <td>0.0</td>\n",
       "      <td>0.0</td>\n",
       "      <td>0.0</td>\n",
       "      <td>0.0</td>\n",
       "      <td>0.0</td>\n",
       "      <td>0.0</td>\n",
       "      <td>1.0</td>\n",
       "      <td>0.0</td>\n",
       "      <td>0.0</td>\n",
       "      <td>0.0</td>\n",
       "    </tr>\n",
       "    <tr>\n",
       "      <th>1</th>\n",
       "      <td>0.0</td>\n",
       "      <td>0.0</td>\n",
       "      <td>1.0</td>\n",
       "      <td>1.0</td>\n",
       "      <td>0.0</td>\n",
       "      <td>0.0</td>\n",
       "      <td>1.0</td>\n",
       "      <td>0.0</td>\n",
       "      <td>0.0</td>\n",
       "      <td>0.0</td>\n",
       "      <td>0.0</td>\n",
       "      <td>0.0</td>\n",
       "      <td>0.0</td>\n",
       "      <td>0.0</td>\n",
       "      <td>0.0</td>\n",
       "      <td>0.0</td>\n",
       "      <td>1.0</td>\n",
       "      <td>0.0</td>\n",
       "      <td>0.0</td>\n",
       "      <td>0.0</td>\n",
       "    </tr>\n",
       "    <tr>\n",
       "      <th>2</th>\n",
       "      <td>1.0</td>\n",
       "      <td>0.0</td>\n",
       "      <td>0.0</td>\n",
       "      <td>1.0</td>\n",
       "      <td>0.0</td>\n",
       "      <td>0.0</td>\n",
       "      <td>0.0</td>\n",
       "      <td>0.0</td>\n",
       "      <td>0.0</td>\n",
       "      <td>0.0</td>\n",
       "      <td>0.0</td>\n",
       "      <td>0.0</td>\n",
       "      <td>0.0</td>\n",
       "      <td>1.0</td>\n",
       "      <td>0.0</td>\n",
       "      <td>0.0</td>\n",
       "      <td>0.0</td>\n",
       "      <td>0.0</td>\n",
       "      <td>1.0</td>\n",
       "      <td>0.0</td>\n",
       "    </tr>\n",
       "  </tbody>\n",
       "</table>\n",
       "</div>"
      ],
      "text/plain": [
       "   France  Germany  Spain  Female  Male  Tenure-0  Tenure-1  Tenure-2  \\\n",
       "0     1.0      0.0    0.0     1.0   0.0       0.0       0.0       1.0   \n",
       "1     0.0      0.0    1.0     1.0   0.0       0.0       1.0       0.0   \n",
       "2     1.0      0.0    0.0     1.0   0.0       0.0       0.0       0.0   \n",
       "\n",
       "   Tenure-3  Tenure-4  Tenure-5  Tenure-6  Tenure-7  Tenure-8  Tenure-9  \\\n",
       "0       0.0       0.0       0.0       0.0       0.0       0.0       0.0   \n",
       "1       0.0       0.0       0.0       0.0       0.0       0.0       0.0   \n",
       "2       0.0       0.0       0.0       0.0       0.0       1.0       0.0   \n",
       "\n",
       "   Tenure-10  NumOfPr-1  NumOfPr-2  NumOfPr-3  NumOfPr-4  \n",
       "0        0.0        1.0        0.0        0.0        0.0  \n",
       "1        0.0        1.0        0.0        0.0        0.0  \n",
       "2        0.0        0.0        0.0        1.0        0.0  "
      ]
     },
     "execution_count": 39,
     "metadata": {},
     "output_type": "execute_result"
    }
   ],
   "source": [
    "feat_to_bin = f_cat_ + ['Tenure'] + ['NumOfProducts']\n",
    "\n",
    "ohe = OneHotEncoder()\n",
    "ohe_matrix = ohe.fit_transform(data[feat_to_bin])\n",
    "ohe_matrix = ohe_matrix.toarray()\n",
    "\n",
    "# формируем список наименований столбцов\n",
    "ohe_cat_raw = ohe.categories_\n",
    "f_2bin = [] # бинарные переменные\n",
    "\n",
    "count = 0\n",
    "for cat in ohe_cat_raw:\n",
    "    for label in cat:\n",
    "        if 0 <= count <= 4:\n",
    "            f_2bin.append(label)\n",
    "        elif 5 <= count <= 15:\n",
    "            f_2bin.append(str('Tenure-' + str(label)))\n",
    "        else:\n",
    "            f_2bin.append(str('NumOfPr-' + str(label)))\n",
    "        count = count + 1\n",
    "            \n",
    "df_ohe_matrix = pd.DataFrame(ohe_matrix, columns=f_2bin)\n",
    "df_ohe_matrix.index = data.index\n",
    "\n",
    "df_ohe_matrix.head(3)"
   ]
  },
  {
   "cell_type": "code",
   "execution_count": 40,
   "id": "otherwise-victor",
   "metadata": {},
   "outputs": [
    {
     "data": {
      "text/html": [
       "<div>\n",
       "<style scoped>\n",
       "    .dataframe tbody tr th:only-of-type {\n",
       "        vertical-align: middle;\n",
       "    }\n",
       "\n",
       "    .dataframe tbody tr th {\n",
       "        vertical-align: top;\n",
       "    }\n",
       "\n",
       "    .dataframe thead th {\n",
       "        text-align: right;\n",
       "    }\n",
       "</style>\n",
       "<table border=\"1\" class=\"dataframe\">\n",
       "  <thead>\n",
       "    <tr style=\"text-align: right;\">\n",
       "      <th></th>\n",
       "      <th>RowNumber</th>\n",
       "      <th>CustomerId</th>\n",
       "      <th>Surname</th>\n",
       "      <th>CreditScore</th>\n",
       "      <th>Geography</th>\n",
       "      <th>Gender</th>\n",
       "      <th>Age</th>\n",
       "      <th>Tenure</th>\n",
       "      <th>Balance</th>\n",
       "      <th>NumOfProducts</th>\n",
       "      <th>...</th>\n",
       "      <th>Tenure-5</th>\n",
       "      <th>Tenure-6</th>\n",
       "      <th>Tenure-7</th>\n",
       "      <th>Tenure-8</th>\n",
       "      <th>Tenure-9</th>\n",
       "      <th>Tenure-10</th>\n",
       "      <th>NumOfPr-1</th>\n",
       "      <th>NumOfPr-2</th>\n",
       "      <th>NumOfPr-3</th>\n",
       "      <th>NumOfPr-4</th>\n",
       "    </tr>\n",
       "  </thead>\n",
       "  <tbody>\n",
       "    <tr>\n",
       "      <th>0</th>\n",
       "      <td>1</td>\n",
       "      <td>15634602</td>\n",
       "      <td>Hargrave</td>\n",
       "      <td>619</td>\n",
       "      <td>France</td>\n",
       "      <td>Female</td>\n",
       "      <td>42</td>\n",
       "      <td>2</td>\n",
       "      <td>0.00</td>\n",
       "      <td>1</td>\n",
       "      <td>...</td>\n",
       "      <td>0.0</td>\n",
       "      <td>0.0</td>\n",
       "      <td>0.0</td>\n",
       "      <td>0.0</td>\n",
       "      <td>0.0</td>\n",
       "      <td>0.0</td>\n",
       "      <td>1.0</td>\n",
       "      <td>0.0</td>\n",
       "      <td>0.0</td>\n",
       "      <td>0.0</td>\n",
       "    </tr>\n",
       "    <tr>\n",
       "      <th>1</th>\n",
       "      <td>2</td>\n",
       "      <td>15647311</td>\n",
       "      <td>Hill</td>\n",
       "      <td>608</td>\n",
       "      <td>Spain</td>\n",
       "      <td>Female</td>\n",
       "      <td>41</td>\n",
       "      <td>1</td>\n",
       "      <td>83807.86</td>\n",
       "      <td>1</td>\n",
       "      <td>...</td>\n",
       "      <td>0.0</td>\n",
       "      <td>0.0</td>\n",
       "      <td>0.0</td>\n",
       "      <td>0.0</td>\n",
       "      <td>0.0</td>\n",
       "      <td>0.0</td>\n",
       "      <td>1.0</td>\n",
       "      <td>0.0</td>\n",
       "      <td>0.0</td>\n",
       "      <td>0.0</td>\n",
       "    </tr>\n",
       "    <tr>\n",
       "      <th>2</th>\n",
       "      <td>3</td>\n",
       "      <td>15619304</td>\n",
       "      <td>Onio</td>\n",
       "      <td>502</td>\n",
       "      <td>France</td>\n",
       "      <td>Female</td>\n",
       "      <td>42</td>\n",
       "      <td>8</td>\n",
       "      <td>159660.80</td>\n",
       "      <td>3</td>\n",
       "      <td>...</td>\n",
       "      <td>0.0</td>\n",
       "      <td>0.0</td>\n",
       "      <td>0.0</td>\n",
       "      <td>1.0</td>\n",
       "      <td>0.0</td>\n",
       "      <td>0.0</td>\n",
       "      <td>0.0</td>\n",
       "      <td>0.0</td>\n",
       "      <td>1.0</td>\n",
       "      <td>0.0</td>\n",
       "    </tr>\n",
       "  </tbody>\n",
       "</table>\n",
       "<p>3 rows × 36 columns</p>\n",
       "</div>"
      ],
      "text/plain": [
       "   RowNumber  CustomerId   Surname  CreditScore Geography  Gender  Age  \\\n",
       "0          1    15634602  Hargrave          619    France  Female   42   \n",
       "1          2    15647311      Hill          608     Spain  Female   41   \n",
       "2          3    15619304      Onio          502    France  Female   42   \n",
       "\n",
       "   Tenure    Balance  NumOfProducts  ...  Tenure-5  Tenure-6  Tenure-7  \\\n",
       "0       2       0.00              1  ...       0.0       0.0       0.0   \n",
       "1       1   83807.86              1  ...       0.0       0.0       0.0   \n",
       "2       8  159660.80              3  ...       0.0       0.0       0.0   \n",
       "\n",
       "   Tenure-8  Tenure-9  Tenure-10  NumOfPr-1  NumOfPr-2  NumOfPr-3  NumOfPr-4  \n",
       "0       0.0       0.0        0.0        1.0        0.0        0.0        0.0  \n",
       "1       0.0       0.0        0.0        1.0        0.0        0.0        0.0  \n",
       "2       1.0       0.0        0.0        0.0        0.0        1.0        0.0  \n",
       "\n",
       "[3 rows x 36 columns]"
      ]
     },
     "execution_count": 40,
     "metadata": {},
     "output_type": "execute_result"
    }
   ],
   "source": [
    "data = data.join(df_ohe_matrix)\n",
    "data.head(3)"
   ]
  },
  {
   "cell_type": "markdown",
   "id": "coated-brisbane",
   "metadata": {},
   "source": [
    "> 3. Дополним бинарными переменными"
   ]
  },
  {
   "cell_type": "markdown",
   "id": "lesser-somalia",
   "metadata": {},
   "source": [
    "> Думаю, стоит добавить также бинарные переменные: выше 0 и ниже 41186.5025 , выше 159177.4475."
   ]
  },
  {
   "cell_type": "code",
   "execution_count": 41,
   "id": "understanding-aggregate",
   "metadata": {},
   "outputs": [],
   "source": [
    "data['IsZeroBalance'] = np.where((data['Balance'] == 0), 1, 0)\n",
    "data['Balance_l_41186'] = np.where(((data['Balance'] != 0) & (data['Balance'] < 41186)), 1, 0)\n",
    "data['Balance_h_41186'] = np.where(((data['Balance'] > 159177)), 1, 0)\n",
    "data['CreditScore_l_383'] = np.where((data['CreditScore'] < 383), 1, 0)\n",
    "data['CreditScore_h_785'] = np.where((data['CreditScore'] > 785), 1, 0)"
   ]
  },
  {
   "cell_type": "code",
   "execution_count": 42,
   "id": "corrected-gamma",
   "metadata": {},
   "outputs": [
    {
     "data": {
      "text/html": [
       "<div>\n",
       "<style scoped>\n",
       "    .dataframe tbody tr th:only-of-type {\n",
       "        vertical-align: middle;\n",
       "    }\n",
       "\n",
       "    .dataframe tbody tr th {\n",
       "        vertical-align: top;\n",
       "    }\n",
       "\n",
       "    .dataframe thead th {\n",
       "        text-align: right;\n",
       "    }\n",
       "</style>\n",
       "<table border=\"1\" class=\"dataframe\">\n",
       "  <thead>\n",
       "    <tr style=\"text-align: right;\">\n",
       "      <th></th>\n",
       "      <th>RowNumber</th>\n",
       "      <th>CustomerId</th>\n",
       "      <th>Surname</th>\n",
       "      <th>CreditScore</th>\n",
       "      <th>Geography</th>\n",
       "      <th>Gender</th>\n",
       "      <th>Age</th>\n",
       "      <th>Tenure</th>\n",
       "      <th>Balance</th>\n",
       "      <th>NumOfProducts</th>\n",
       "      <th>...</th>\n",
       "      <th>Tenure-10</th>\n",
       "      <th>NumOfPr-1</th>\n",
       "      <th>NumOfPr-2</th>\n",
       "      <th>NumOfPr-3</th>\n",
       "      <th>NumOfPr-4</th>\n",
       "      <th>IsZeroBalance</th>\n",
       "      <th>Balance_l_41186</th>\n",
       "      <th>Balance_h_41186</th>\n",
       "      <th>CreditScore_l_383</th>\n",
       "      <th>CreditScore_h_785</th>\n",
       "    </tr>\n",
       "  </thead>\n",
       "  <tbody>\n",
       "    <tr>\n",
       "      <th>0</th>\n",
       "      <td>1</td>\n",
       "      <td>15634602</td>\n",
       "      <td>Hargrave</td>\n",
       "      <td>619</td>\n",
       "      <td>France</td>\n",
       "      <td>Female</td>\n",
       "      <td>42</td>\n",
       "      <td>2</td>\n",
       "      <td>0.00</td>\n",
       "      <td>1</td>\n",
       "      <td>...</td>\n",
       "      <td>0.0</td>\n",
       "      <td>1.0</td>\n",
       "      <td>0.0</td>\n",
       "      <td>0.0</td>\n",
       "      <td>0.0</td>\n",
       "      <td>1</td>\n",
       "      <td>0</td>\n",
       "      <td>0</td>\n",
       "      <td>0</td>\n",
       "      <td>0</td>\n",
       "    </tr>\n",
       "    <tr>\n",
       "      <th>1</th>\n",
       "      <td>2</td>\n",
       "      <td>15647311</td>\n",
       "      <td>Hill</td>\n",
       "      <td>608</td>\n",
       "      <td>Spain</td>\n",
       "      <td>Female</td>\n",
       "      <td>41</td>\n",
       "      <td>1</td>\n",
       "      <td>83807.86</td>\n",
       "      <td>1</td>\n",
       "      <td>...</td>\n",
       "      <td>0.0</td>\n",
       "      <td>1.0</td>\n",
       "      <td>0.0</td>\n",
       "      <td>0.0</td>\n",
       "      <td>0.0</td>\n",
       "      <td>0</td>\n",
       "      <td>0</td>\n",
       "      <td>0</td>\n",
       "      <td>0</td>\n",
       "      <td>0</td>\n",
       "    </tr>\n",
       "    <tr>\n",
       "      <th>2</th>\n",
       "      <td>3</td>\n",
       "      <td>15619304</td>\n",
       "      <td>Onio</td>\n",
       "      <td>502</td>\n",
       "      <td>France</td>\n",
       "      <td>Female</td>\n",
       "      <td>42</td>\n",
       "      <td>8</td>\n",
       "      <td>159660.80</td>\n",
       "      <td>3</td>\n",
       "      <td>...</td>\n",
       "      <td>0.0</td>\n",
       "      <td>0.0</td>\n",
       "      <td>0.0</td>\n",
       "      <td>1.0</td>\n",
       "      <td>0.0</td>\n",
       "      <td>0</td>\n",
       "      <td>0</td>\n",
       "      <td>1</td>\n",
       "      <td>0</td>\n",
       "      <td>0</td>\n",
       "    </tr>\n",
       "  </tbody>\n",
       "</table>\n",
       "<p>3 rows × 41 columns</p>\n",
       "</div>"
      ],
      "text/plain": [
       "   RowNumber  CustomerId   Surname  CreditScore Geography  Gender  Age  \\\n",
       "0          1    15634602  Hargrave          619    France  Female   42   \n",
       "1          2    15647311      Hill          608     Spain  Female   41   \n",
       "2          3    15619304      Onio          502    France  Female   42   \n",
       "\n",
       "   Tenure    Balance  NumOfProducts  ...  Tenure-10  NumOfPr-1  NumOfPr-2  \\\n",
       "0       2       0.00              1  ...        0.0        1.0        0.0   \n",
       "1       1   83807.86              1  ...        0.0        1.0        0.0   \n",
       "2       8  159660.80              3  ...        0.0        0.0        0.0   \n",
       "\n",
       "   NumOfPr-3  NumOfPr-4  IsZeroBalance  Balance_l_41186  Balance_h_41186  \\\n",
       "0        0.0        0.0              1                0                0   \n",
       "1        0.0        0.0              0                0                0   \n",
       "2        1.0        0.0              0                0                1   \n",
       "\n",
       "   CreditScore_l_383  CreditScore_h_785  \n",
       "0                  0                  0  \n",
       "1                  0                  0  \n",
       "2                  0                  0  \n",
       "\n",
       "[3 rows x 41 columns]"
      ]
     },
     "execution_count": 42,
     "metadata": {},
     "output_type": "execute_result"
    }
   ],
   "source": [
    "data.head(3)"
   ]
  },
  {
   "cell_type": "markdown",
   "id": "capital-dutch",
   "metadata": {},
   "source": [
    "##### Обновим списки переменных"
   ]
  },
  {
   "cell_type": "code",
   "execution_count": 43,
   "id": "talented-austin",
   "metadata": {},
   "outputs": [
    {
     "data": {
      "text/plain": [
       "Index(['RowNumber', 'CustomerId', 'Surname', 'CreditScore', 'Geography',\n",
       "       'Gender', 'Age', 'Tenure', 'Balance', 'NumOfProducts', 'HasCrCard',\n",
       "       'IsActiveMember', 'EstimatedSalary', 'Exited', 'PensionAge',\n",
       "       'IsPensionAge', 'France', 'Germany', 'Spain', 'Female', 'Male',\n",
       "       'Tenure-0', 'Tenure-1', 'Tenure-2', 'Tenure-3', 'Tenure-4', 'Tenure-5',\n",
       "       'Tenure-6', 'Tenure-7', 'Tenure-8', 'Tenure-9', 'Tenure-10',\n",
       "       'NumOfPr-1', 'NumOfPr-2', 'NumOfPr-3', 'NumOfPr-4', 'IsZeroBalance',\n",
       "       'Balance_l_41186', 'Balance_h_41186', 'CreditScore_l_383',\n",
       "       'CreditScore_h_785'],\n",
       "      dtype='object')"
      ]
     },
     "execution_count": 43,
     "metadata": {},
     "output_type": "execute_result"
    }
   ],
   "source": [
    "data.columns"
   ]
  },
  {
   "cell_type": "code",
   "execution_count": 44,
   "id": "convertible-scott",
   "metadata": {},
   "outputs": [],
   "source": [
    "f_num = [\n",
    "    'CreditScore',\n",
    "    'Age',\n",
    "    'Balance',\n",
    "    'EstimatedSalary'\n",
    "] # числовые переменные\n",
    "\n",
    "f_bin = [\n",
    "    'HasCrCard',\n",
    "    'IsActiveMember',\n",
    "    'IsPensionAge',\n",
    "    'France', \n",
    "    'Germany', \n",
    "    'Spain', \n",
    "    'Female',\n",
    "    'Male',\n",
    "    'Tenure-0',\n",
    "    'Tenure-1', \n",
    "    'Tenure-2', \n",
    "    'Tenure-3', \n",
    "    'Tenure-4', \n",
    "    'Tenure-5',\n",
    "    'Tenure-6', \n",
    "    'Tenure-7', \n",
    "    'Tenure-8', \n",
    "    'Tenure-9', \n",
    "    'Tenure-10',\n",
    "    'NumOfPr-1', \n",
    "    'NumOfPr-2', \n",
    "    'NumOfPr-3',\n",
    "    'NumOfPr-4',\n",
    "    'IsZeroBalance',\n",
    "    'CreditScore_l_383', \n",
    "    'CreditScore_h_785',\n",
    "    'Balance_l_41186',\n",
    "    'Balance_h_41186'\n",
    "] # категориальные, бинарные\n",
    "\n",
    "f_text = ['Surname'] # вряд ли, но посмотрим\n",
    "\n",
    "f_other = [\n",
    "    'RowNumber',\n",
    "    'CustomerId'\n",
    "] # а вдруг \"криво\" датасет сделали, нужно детально посмотреть\n",
    "\n",
    "f_remove = [\n",
    "    'Tenure',\n",
    "    'NumOfProducts',\n",
    "    'PensionAge',\n",
    "    'Gender',\n",
    "    'Geography'\n",
    "]\n",
    "\n",
    "target = [\n",
    "     'Exited' ] # целевое значение"
   ]
  },
  {
   "cell_type": "code",
   "execution_count": 45,
   "id": "original-skirt",
   "metadata": {},
   "outputs": [],
   "source": [
    "assert len(f_num) + len(f_bin) + len(f_text) + len(f_other) + len(target) + len(f_remove) == data.shape[1], 'Check split'"
   ]
  },
  {
   "cell_type": "markdown",
   "id": "metric-tradition",
   "metadata": {},
   "source": [
    "##### Посмотрим на корреляции"
   ]
  },
  {
   "cell_type": "code",
   "execution_count": 46,
   "id": "closed-writer",
   "metadata": {},
   "outputs": [
    {
     "data": {
      "text/plain": [
       "<AxesSubplot:>"
      ]
     },
     "execution_count": 46,
     "metadata": {},
     "output_type": "execute_result"
    },
    {
     "data": {
      "image/png": "[encoded data removed]",
      "text/plain": [
       "<Figure size 360x360 with 2 Axes>"
      ]
     },
     "metadata": {
      "needs_background": "light"
     },
     "output_type": "display_data"
    }
   ],
   "source": [
    "fig, ax = plt.subplots(figsize=(5,5))\n",
    "corr = data[f_other + target].corr(method='pearson')\n",
    "mask = np.triu(np.ones_like(corr, dtype=bool))\n",
    "sns.heatmap(np.round(corr * 100, 0), center=0, annot=True, square=True, ax=ax, mask=mask)"
   ]
  },
  {
   "cell_type": "markdown",
   "id": "italian-accounting",
   "metadata": {},
   "source": [
    "> Утечки при составлении датасета не обнаружилось."
   ]
  },
  {
   "cell_type": "code",
   "execution_count": 47,
   "id": "upset-monitor",
   "metadata": {},
   "outputs": [
    {
     "data": {
      "text/plain": [
       "<AxesSubplot:>"
      ]
     },
     "execution_count": 47,
     "metadata": {},
     "output_type": "execute_result"
    },
    {
     "data": {
      "image/png": "[encoded data removed]",
      "text/plain": [
       "<Figure size 360x360 with 2 Axes>"
      ]
     },
     "metadata": {
      "needs_background": "light"
     },
     "output_type": "display_data"
    }
   ],
   "source": [
    "fig, ax = plt.subplots(figsize=(5,5))\n",
    "corr = data[f_num + target].corr(method='pearson')\n",
    "mask = np.triu(np.ones_like(corr, dtype=bool))\n",
    "sns.heatmap(np.round(corr * 100, 0), center=0, annot=True, square=True, ax=ax, mask=mask)"
   ]
  },
  {
   "cell_type": "markdown",
   "id": "consolidated-hacker",
   "metadata": {},
   "source": [
    "> По заданию линейная регрессия, поэтому для модели отбираю те переменные, которые имеют корреляцию с оттоком. Это Age и Balance. \n",
    "> Estimated Salary на отток не влияет ни графически, ни через коэффициент корреляции."
   ]
  },
  {
   "cell_type": "code",
   "execution_count": 48,
   "id": "female-characteristic",
   "metadata": {},
   "outputs": [],
   "source": [
    "feat_selected = ['Age', 'Balance']"
   ]
  },
  {
   "cell_type": "code",
   "execution_count": 49,
   "id": "awful-survival",
   "metadata": {},
   "outputs": [
    {
     "data": {
      "text/plain": [
       "<AxesSubplot:>"
      ]
     },
     "execution_count": 49,
     "metadata": {},
     "output_type": "execute_result"
    },
    {
     "data": {
      "image/png": "[encoded data removed]",
      "text/plain": [
       "<Figure size 1440x1440 with 2 Axes>"
      ]
     },
     "metadata": {
      "needs_background": "light"
     },
     "output_type": "display_data"
    }
   ],
   "source": [
    "fig, ax = plt.subplots(figsize=(20,20))\n",
    "corr = data[f_bin + target].corr(method='pearson')\n",
    "mask = np.triu(np.ones_like(corr, dtype=bool))\n",
    "sns.heatmap(np.round(corr * 100, 0), center=0, annot=True, square=True, ax=ax, mask=mask)"
   ]
  },
  {
   "cell_type": "code",
   "execution_count": 50,
   "id": "protected-assessment",
   "metadata": {},
   "outputs": [],
   "source": [
    "feat_selected = feat_selected + ['Germany', 'France', 'Spain', 'IsActiveMember', 'Female', 'NumOfPr-1', 'NumOfPr-2', 'NumOfPr-3', 'NumOfPr-4', 'IsZeroBalance', 'CreditScore_l_383']"
   ]
  },
  {
   "cell_type": "code",
   "execution_count": 51,
   "id": "worthy-curve",
   "metadata": {},
   "outputs": [
    {
     "data": {
      "text/plain": [
       "<AxesSubplot:>"
      ]
     },
     "execution_count": 51,
     "metadata": {},
     "output_type": "execute_result"
    },
    {
     "data": {
      "image/png": "[encoded data removed]",
      "text/plain": [
       "<Figure size 720x720 with 2 Axes>"
      ]
     },
     "metadata": {
      "needs_background": "light"
     },
     "output_type": "display_data"
    }
   ],
   "source": [
    "fig, ax = plt.subplots(figsize=(10,10))\n",
    "corr = data[feat_selected + target].corr(method='pearson')\n",
    "# mask = np.triu(np.ones_like(corr, dtype=bool))\n",
    "sns.heatmap(np.round(corr * 100, 0), center=0, annot=True, square=True, ax=ax)"
   ]
  },
  {
   "cell_type": "markdown",
   "id": "turkish-summit",
   "metadata": {},
   "source": [
    "> Balance и IsZeroBalance имеет более низкий коэффициент корреляции с целевой переменной и коррелирует со многими переменными.\n",
    "> Убираю Balance и IsZeroBalance, смотрю дальше"
   ]
  },
  {
   "cell_type": "code",
   "execution_count": 52,
   "id": "pressing-virtue",
   "metadata": {},
   "outputs": [],
   "source": [
    "feat_selected.remove('Balance')\n",
    "feat_selected.remove('IsZeroBalance')"
   ]
  },
  {
   "cell_type": "code",
   "execution_count": 53,
   "id": "valuable-receptor",
   "metadata": {},
   "outputs": [
    {
     "data": {
      "text/plain": [
       "<AxesSubplot:>"
      ]
     },
     "execution_count": 53,
     "metadata": {},
     "output_type": "execute_result"
    },
    {
     "data": {
      "image/png": "[encoded data removed]",
      "text/plain": [
       "<Figure size 720x720 with 2 Axes>"
      ]
     },
     "metadata": {
      "needs_background": "light"
     },
     "output_type": "display_data"
    }
   ],
   "source": [
    "fig, ax = plt.subplots(figsize=(10,10))\n",
    "corr = data[feat_selected + target].corr(method='pearson')\n",
    "mask = np.triu(np.ones_like(corr, dtype=bool))\n",
    "sns.heatmap(np.round(corr * 100, 0), center=0, annot=True, square=True, ax=ax)"
   ]
  },
  {
   "cell_type": "markdown",
   "id": "million-december",
   "metadata": {},
   "source": [
    "> France и Spain имеет более низкий коэффициент корреляции с целевой переменной, чем Germany, и коррелируют с Germany. </br>\n",
    "> 'NumOfPr-1' коррелирует с  'NumOfPr-2' и имеет более низкий коэффициент корреляции с целевой переменной, чем 'NumOfPr-2. </br>\n",
    "> Убираю 'NumOfPr-1', France и Spain, смотрю дальше "
   ]
  },
  {
   "cell_type": "code",
   "execution_count": 54,
   "id": "brilliant-technical",
   "metadata": {},
   "outputs": [],
   "source": [
    "feat_selected.remove('France')\n",
    "feat_selected.remove('Spain')\n",
    "feat_selected.remove('NumOfPr-1')"
   ]
  },
  {
   "cell_type": "code",
   "execution_count": 55,
   "id": "universal-vanilla",
   "metadata": {},
   "outputs": [
    {
     "data": {
      "text/plain": [
       "<AxesSubplot:>"
      ]
     },
     "execution_count": 55,
     "metadata": {},
     "output_type": "execute_result"
    },
    {
     "data": {
      "image/png": "[encoded data removed]",
      "text/plain": [
       "<Figure size 720x720 with 2 Axes>"
      ]
     },
     "metadata": {
      "needs_background": "light"
     },
     "output_type": "display_data"
    }
   ],
   "source": [
    "fig, ax = plt.subplots(figsize=(10,10))\n",
    "corr = data[feat_selected + target].corr(method='pearson')\n",
    "mask = np.triu(np.ones_like(corr, dtype=bool))\n",
    "sns.heatmap(np.round(corr * 100, 0), center=0, annot=True, square=True, ax=ax, mask=mask)"
   ]
  },
  {
   "cell_type": "markdown",
   "id": "monetary-zambia",
   "metadata": {},
   "source": [
    "#### Моделирование"
   ]
  },
  {
   "cell_type": "code",
   "execution_count": 56,
   "id": "consolidated-israel",
   "metadata": {},
   "outputs": [],
   "source": [
    "train_df = data[feat_selected + ['Exited']].copy()"
   ]
  },
  {
   "cell_type": "markdown",
   "id": "alternate-harvard",
   "metadata": {},
   "source": [
    "####  Первый подход - возраст c MinMaxScaler и downsampling"
   ]
  },
  {
   "cell_type": "code",
   "execution_count": 57,
   "id": "accompanied-prediction",
   "metadata": {},
   "outputs": [
    {
     "name": "stdout",
     "output_type": "stream",
     "text": [
      "      count      mean       std  min       25%       50%      75%  max\n",
      "Age  3260.0  0.312063  0.145119  0.0  0.202703  0.297297  0.39527  1.0\n",
      "      count      mean       std  min       25%       50%       75%       max\n",
      "Age  2000.0  0.281385  0.139622  0.0  0.189189  0.256757  0.351351  0.905405\n",
      "Train metrics:\n",
      "              precision    recall  f1-score   support\n",
      "\n",
      "           0       0.76      0.76      0.76      1634\n",
      "           1       0.76      0.76      0.76      1626\n",
      "\n",
      "    accuracy                           0.76      3260\n",
      "   macro avg       0.76      0.76      0.76      3260\n",
      "weighted avg       0.76      0.76      0.76      3260\n",
      "\n",
      "-----------------\n",
      "Test metrics:\n",
      "              precision    recall  f1-score   support\n",
      "\n",
      "           0       0.76      0.92      0.83      1308\n",
      "           1       0.75      0.44      0.56       692\n",
      "\n",
      "    accuracy                           0.76      2000\n",
      "   macro avg       0.76      0.68      0.70      2000\n",
      "weighted avg       0.76      0.76      0.74      2000\n",
      "\n"
     ]
    }
   ],
   "source": [
    "# готовим переменные\n",
    "X = train_df.drop(['Exited'], axis=1)\n",
    "y = train_df['Exited']\n",
    "\n",
    "X_train, X_test, y_train, y_test = train_test_split(X, y, test_size=0.2, stratify=y, random_state=42)\n",
    "X_test = X_test.copy() # чтобы не было предупредления при стандартизации\n",
    "\n",
    "# downsampling\n",
    "downsampling_counts = int(y_train.value_counts()[1])\n",
    "downsampling_df = X_train.loc[y_train == 0].sample(downsampling_counts, random_state=42)\n",
    "sampling_X_train = pd.concat([X_train[y_train == 1], downsampling_df])\n",
    "sampling_y_train = y.loc[sampling_X_train.index].reset_index(drop=True)\n",
    "sampling_X_train = sampling_X_train.reset_index(drop=True)\n",
    "\n",
    "# MinMaxScaler\n",
    "minmax = MinMaxScaler()\n",
    "\n",
    "mm_age = minmax.fit_transform(sampling_X_train[['Age']])\n",
    "sampling_X_train.loc[:, 'Age'] = mm_age\n",
    "print(sampling_X_train[['Age']].describe().transpose())\n",
    "\n",
    "mm_age = minmax.transform(X_test[['Age']])\n",
    "X_test.loc[:, 'Age'] = mm_age\n",
    "print(X_test[['Age']].describe().transpose())\n",
    "\n",
    "# LogReg\n",
    "logress = LogisticRegression()\n",
    "logress.fit(sampling_X_train, sampling_y_train)\n",
    "\n",
    "train_pred = logress.predict(sampling_X_train)\n",
    "test_pred = logress.predict(X_test)\n",
    "\n",
    "print('Train metrics:')\n",
    "print(classification_report(train_pred, sampling_y_train))\n",
    "print('-----------------')\n",
    "print('Test metrics:')\n",
    "print(classification_report(test_pred, y_test))"
   ]
  },
  {
   "cell_type": "code",
   "execution_count": 58,
   "id": "seven-treasury",
   "metadata": {},
   "outputs": [
    {
     "data": {
      "text/plain": [
       "{'C': 1.0, 'max_iter': 2000, 'penalty': 'l2', 'solver': 'saga'}"
      ]
     },
     "execution_count": 58,
     "metadata": {},
     "output_type": "execute_result"
    }
   ],
   "source": [
    "# GridSearch\n",
    "params = {\"penalty\": ['l1', 'l2'],\n",
    "         \"C\": np.arange(0.25, 1.10, 0.25),\n",
    "        \"solver\": ['saga'],\n",
    "         \"max_iter\": [2000]}\n",
    "\n",
    "# LogisticRegression()\n",
    "results = GridSearchCV(LogisticRegression(), params, cv=3, n_jobs=-1, scoring='f1')\n",
    "results.fit(sampling_X_train, sampling_y_train)\n",
    "results.best_params_"
   ]
  },
  {
   "cell_type": "code",
   "execution_count": 59,
   "id": "special-pendant",
   "metadata": {},
   "outputs": [
    {
     "name": "stdout",
     "output_type": "stream",
     "text": [
      "Train metrics:\n",
      "              precision    recall  f1-score   support\n",
      "\n",
      "           0       0.76      0.76      0.76      1634\n",
      "           1       0.76      0.76      0.76      1626\n",
      "\n",
      "    accuracy                           0.76      3260\n",
      "   macro avg       0.76      0.76      0.76      3260\n",
      "weighted avg       0.76      0.76      0.76      3260\n",
      "\n",
      "-----------------\n",
      "Test metrics:\n",
      "              precision    recall  f1-score   support\n",
      "\n",
      "           0       0.76      0.92      0.83      1308\n",
      "           1       0.75      0.44      0.56       692\n",
      "\n",
      "    accuracy                           0.76      2000\n",
      "   macro avg       0.76      0.68      0.70      2000\n",
      "weighted avg       0.76      0.76      0.74      2000\n",
      "\n"
     ]
    }
   ],
   "source": [
    "logress = LogisticRegression(C=1.0, max_iter=2000, penalty='l2', solver='saga')\n",
    "logress.fit(sampling_X_train, sampling_y_train)\n",
    "\n",
    "train_pred = logress.predict(sampling_X_train)\n",
    "test_pred = logress.predict(X_test)\n",
    "\n",
    "print('Train metrics:')\n",
    "print(classification_report(train_pred, sampling_y_train))\n",
    "print('-----------------')\n",
    "print('Test metrics:')\n",
    "print(classification_report(test_pred, y_test))"
   ]
  },
  {
   "cell_type": "code",
   "execution_count": 60,
   "id": "fitting-granny",
   "metadata": {},
   "outputs": [
    {
     "data": {
      "text/plain": [
       "array([[ 4.96959397,  0.98156099, -0.94361379,  0.64473312, -1.50553982,\n",
       "         1.973144  ,  2.41903682,  1.54226787]])"
      ]
     },
     "execution_count": 60,
     "metadata": {},
     "output_type": "execute_result"
    }
   ],
   "source": [
    "logress.coef_"
   ]
  },
  {
   "cell_type": "code",
   "execution_count": 61,
   "id": "thirty-congo",
   "metadata": {},
   "outputs": [
    {
     "data": {
      "text/plain": [
       "Index(['Age', 'Germany', 'IsActiveMember', 'Female', 'NumOfPr-2', 'NumOfPr-3',\n",
       "       'NumOfPr-4', 'CreditScore_l_383', 'Exited'],\n",
       "      dtype='object')"
      ]
     },
     "execution_count": 61,
     "metadata": {},
     "output_type": "execute_result"
    }
   ],
   "source": [
    "train_df.columns"
   ]
  },
  {
   "cell_type": "markdown",
   "id": "integrated-rating",
   "metadata": {},
   "source": [
    "####  Второй подход - возраст без изменений"
   ]
  },
  {
   "cell_type": "code",
   "execution_count": 62,
   "id": "challenging-mitchell",
   "metadata": {},
   "outputs": [
    {
     "name": "stdout",
     "output_type": "stream",
     "text": [
      "Train metrics:\n",
      "              precision    recall  f1-score   support\n",
      "\n",
      "           0       0.76      0.76      0.76      1638\n",
      "           1       0.76      0.76      0.76      1622\n",
      "\n",
      "    accuracy                           0.76      3260\n",
      "   macro avg       0.76      0.76      0.76      3260\n",
      "weighted avg       0.76      0.76      0.76      3260\n",
      "\n",
      "-----------------\n",
      "Test metrics:\n",
      "              precision    recall  f1-score   support\n",
      "\n",
      "           0       0.76      0.92      0.83      1309\n",
      "           1       0.76      0.45      0.56       691\n",
      "\n",
      "    accuracy                           0.76      2000\n",
      "   macro avg       0.76      0.69      0.70      2000\n",
      "weighted avg       0.76      0.76      0.74      2000\n",
      "\n"
     ]
    },
    {
     "name": "stderr",
     "output_type": "stream",
     "text": [
      "C:\\Programs\\Anaconda3\\lib\\site-packages\\sklearn\\linear_model\\_logistic.py:765: ConvergenceWarning: lbfgs failed to converge (status=1):\n",
      "STOP: TOTAL NO. of ITERATIONS REACHED LIMIT.\n",
      "\n",
      "Increase the number of iterations (max_iter) or scale the data as shown in:\n",
      "    https://scikit-learn.org/stable/modules/preprocessing.html\n",
      "Please also refer to the documentation for alternative solver options:\n",
      "    https://scikit-learn.org/stable/modules/linear_model.html#logistic-regression\n",
      "  extra_warning_msg=_LOGISTIC_SOLVER_CONVERGENCE_MSG)\n"
     ]
    }
   ],
   "source": [
    "# готовим переменные\n",
    "X = data[feat_selected].copy()\n",
    "y = data['Exited'].copy()\n",
    "\n",
    "X_train, X_test, y_train, y_test = train_test_split(X, y, test_size=0.2, stratify=y, random_state=42)\n",
    "X_test = X_test.copy() # чтобы не было предупредления при стандартизации\n",
    "\n",
    "# downsampling\n",
    "downsampling_counts = int(y_train.value_counts()[1])\n",
    "downsampling_df = X_train.loc[y_train == 0].sample(downsampling_counts, random_state=42)\n",
    "sampling_X_train = pd.concat([X_train[y_train == 1], downsampling_df])\n",
    "sampling_y_train = y.loc[sampling_X_train.index].reset_index(drop=True)\n",
    "sampling_X_train = sampling_X_train.reset_index(drop=True)\n",
    "\n",
    "# LogReg\n",
    "logress = LogisticRegression()\n",
    "logress.fit(sampling_X_train, sampling_y_train)\n",
    "\n",
    "train_pred = logress.predict(sampling_X_train)\n",
    "test_pred = logress.predict(X_test)\n",
    "\n",
    "print('Train metrics:')\n",
    "print(classification_report(train_pred, sampling_y_train))\n",
    "print('-----------------')\n",
    "print('Test metrics:')\n",
    "print(classification_report(test_pred, y_test))"
   ]
  },
  {
   "cell_type": "markdown",
   "id": "productive-adjustment",
   "metadata": {},
   "source": [
    "Вот что значит, что не нормировали возраст - не сошлась модель"
   ]
  },
  {
   "cell_type": "code",
   "execution_count": 63,
   "id": "toxic-circulation",
   "metadata": {},
   "outputs": [
    {
     "data": {
      "text/plain": [
       "{'C': 0.5, 'max_iter': 2000, 'penalty': 'l2', 'solver': 'saga'}"
      ]
     },
     "execution_count": 63,
     "metadata": {},
     "output_type": "execute_result"
    }
   ],
   "source": [
    "# GridSearch\n",
    "params = {\"penalty\": ['l1', 'l2'],\n",
    "         \"C\": np.arange(0.25, 1.10, 0.25),\n",
    "        \"solver\": ['saga'],\n",
    "         \"max_iter\": [2000]}\n",
    "\n",
    "# LogisticRegression()\n",
    "results = GridSearchCV(LogisticRegression(), params, cv=3, n_jobs=-1, scoring='f1')\n",
    "results.fit(sampling_X_train, sampling_y_train)\n",
    "results.best_params_"
   ]
  },
  {
   "cell_type": "code",
   "execution_count": 64,
   "id": "crucial-flush",
   "metadata": {},
   "outputs": [
    {
     "name": "stdout",
     "output_type": "stream",
     "text": [
      "Train metrics:\n",
      "              precision    recall  f1-score   support\n",
      "\n",
      "           0       0.76      0.76      0.76      1638\n",
      "           1       0.76      0.76      0.76      1622\n",
      "\n",
      "    accuracy                           0.76      3260\n",
      "   macro avg       0.76      0.76      0.76      3260\n",
      "weighted avg       0.76      0.76      0.76      3260\n",
      "\n",
      "-----------------\n",
      "Test metrics:\n",
      "              precision    recall  f1-score   support\n",
      "\n",
      "           0       0.76      0.92      0.83      1308\n",
      "           1       0.76      0.45      0.56       692\n",
      "\n",
      "    accuracy                           0.76      2000\n",
      "   macro avg       0.76      0.68      0.70      2000\n",
      "weighted avg       0.76      0.76      0.74      2000\n",
      "\n"
     ]
    }
   ],
   "source": [
    "logress = LogisticRegression(C=0.5, max_iter=2000, penalty='l2', solver='saga')\n",
    "logress.fit(sampling_X_train, sampling_y_train)\n",
    "\n",
    "train_pred = logress.predict(sampling_X_train)\n",
    "test_pred = logress.predict(X_test)\n",
    "\n",
    "print('Train metrics:')\n",
    "print(classification_report(train_pred, sampling_y_train))\n",
    "print('-----------------')\n",
    "print('Test metrics:')\n",
    "print(classification_report(test_pred, y_test))"
   ]
  },
  {
   "cell_type": "markdown",
   "id": "olive-philip",
   "metadata": {},
   "source": [
    "> В данном случае возраст лучше нормировать, чтобы модель быстрее сходилась. Результат с точки метрик практически идентичен."
   ]
  },
  {
   "cell_type": "markdown",
   "id": "homeless-there",
   "metadata": {},
   "source": [
    "#### Третий подход - возраст c MinMaxScaler и upsampling"
   ]
  },
  {
   "cell_type": "code",
   "execution_count": 65,
   "id": "damaged-rapid",
   "metadata": {},
   "outputs": [
    {
     "name": "stdout",
     "output_type": "stream",
     "text": [
      "       count      mean       std  min       25%       50%       75%  max\n",
      "Age  14370.0  0.318827  0.143728  0.0  0.216216  0.297297  0.405405  1.0\n",
      "      count      mean       std  min       25%       50%       75%       max\n",
      "Age  2000.0  0.281385  0.139622  0.0  0.189189  0.256757  0.351351  0.905405\n",
      "Train metrics:\n",
      "              precision    recall  f1-score   support\n",
      "\n",
      "           0       0.71      0.74      0.73      6104\n",
      "           1       0.80      0.78      0.79      8266\n",
      "\n",
      "    accuracy                           0.76     14370\n",
      "   macro avg       0.76      0.76      0.76     14370\n",
      "weighted avg       0.76      0.76      0.76     14370\n",
      "\n",
      "-----------------\n",
      "Test metrics:\n",
      "              precision    recall  f1-score   support\n",
      "\n",
      "           0       0.71      0.93      0.80      1222\n",
      "           1       0.78      0.41      0.54       778\n",
      "\n",
      "    accuracy                           0.73      2000\n",
      "   macro avg       0.75      0.67      0.67      2000\n",
      "weighted avg       0.74      0.73      0.70      2000\n",
      "\n"
     ]
    }
   ],
   "source": [
    "# готовим переменные\n",
    "X = train_df.drop(['Exited'], axis=1)\n",
    "y = train_df['Exited']\n",
    "\n",
    "X_train, X_test, y_train, y_test = train_test_split(X, y, test_size=0.2, stratify=y, random_state=42)\n",
    "X_test = X_test.copy() # чтобы не было предупредления при стандартизации\n",
    "\n",
    "# upsampling\n",
    "upsampling_counts = int(y_train.value_counts()[0])\n",
    "upsampling_df = X_train[y_train == 1].sample(upsampling_counts, replace=True, random_state=42)\n",
    "sampling_X_train = pd.concat([X_train, upsampling_df])\n",
    "sampling_y_train = y.loc[sampling_X_train.index].reset_index(drop=True)\n",
    "sampling_X_train = sampling_X_train.reset_index(drop=True)\n",
    "\n",
    "# MinMaxScaler\n",
    "minmax = MinMaxScaler()\n",
    "\n",
    "mm_age = minmax.fit_transform(sampling_X_train[['Age']])\n",
    "sampling_X_train.loc[:, 'Age'] = mm_age\n",
    "print(sampling_X_train[['Age']].describe().transpose())\n",
    "\n",
    "mm_age = minmax.transform(X_test[['Age']])\n",
    "X_test.loc[:, 'Age'] = mm_age\n",
    "print(X_test[['Age']].describe().transpose())\n",
    "\n",
    "# LogReg\n",
    "logress = LogisticRegression()\n",
    "logress.fit(sampling_X_train, sampling_y_train)\n",
    "\n",
    "train_pred = logress.predict(sampling_X_train)\n",
    "test_pred = logress.predict(X_test)\n",
    "\n",
    "print('Train metrics:')\n",
    "print(classification_report(train_pred, sampling_y_train))\n",
    "print('-----------------')\n",
    "print('Test metrics:')\n",
    "print(classification_report(test_pred, y_test))"
   ]
  },
  {
   "cell_type": "code",
   "execution_count": 66,
   "id": "light-consciousness",
   "metadata": {},
   "outputs": [
    {
     "data": {
      "text/plain": [
       "{'C': 0.5, 'max_iter': 2000, 'penalty': 'l1', 'solver': 'saga'}"
      ]
     },
     "execution_count": 66,
     "metadata": {},
     "output_type": "execute_result"
    }
   ],
   "source": [
    "# GridSearch\n",
    "params = {\"penalty\": ['l1', 'l2'],\n",
    "         \"C\": np.arange(0.25, 1.10, 0.25),\n",
    "        \"solver\": ['saga'],\n",
    "         \"max_iter\": [2000]}\n",
    "\n",
    "# LogisticRegression()\n",
    "results = GridSearchCV(LogisticRegression(), params, cv=3, n_jobs=-1, scoring='f1')\n",
    "results.fit(sampling_X_train, sampling_y_train)\n",
    "results.best_params_"
   ]
  },
  {
   "cell_type": "code",
   "execution_count": 67,
   "id": "forced-stadium",
   "metadata": {},
   "outputs": [
    {
     "name": "stdout",
     "output_type": "stream",
     "text": [
      "Train metrics:\n",
      "              precision    recall  f1-score   support\n",
      "\n",
      "           0       0.71      0.74      0.73      6110\n",
      "           1       0.80      0.78      0.79      8260\n",
      "\n",
      "    accuracy                           0.76     14370\n",
      "   macro avg       0.76      0.76      0.76     14370\n",
      "weighted avg       0.76      0.76      0.76     14370\n",
      "\n",
      "-----------------\n",
      "Test metrics:\n",
      "              precision    recall  f1-score   support\n",
      "\n",
      "           0       0.71      0.93      0.81      1221\n",
      "           1       0.78      0.41      0.54       779\n",
      "\n",
      "    accuracy                           0.73      2000\n",
      "   macro avg       0.75      0.67      0.67      2000\n",
      "weighted avg       0.74      0.73      0.70      2000\n",
      "\n"
     ]
    }
   ],
   "source": [
    "logress = LogisticRegression(C=0.5, max_iter=2000, penalty='l1', solver='saga')\n",
    "logress.fit(sampling_X_train, sampling_y_train)\n",
    "\n",
    "train_pred = logress.predict(sampling_X_train)\n",
    "test_pred = logress.predict(X_test)\n",
    "\n",
    "print('Train metrics:')\n",
    "print(classification_report(train_pred, sampling_y_train))\n",
    "print('-----------------')\n",
    "print('Test metrics:')\n",
    "print(classification_report(test_pred, y_test))"
   ]
  },
  {
   "cell_type": "markdown",
   "id": "italian-australian",
   "metadata": {},
   "source": [
    "Наихудший результат у третьего подхода, что было достаточно ожидаемо."
   ]
  },
  {
   "cell_type": "markdown",
   "id": "labeled-location",
   "metadata": {},
   "source": [
    "####  Четвертый подход - пересмотрим состав переменных. \n",
    "Буду добавлять по одной переменной и смотреть."
   ]
  },
  {
   "cell_type": "code",
   "execution_count": 68,
   "id": "occupational-sheet",
   "metadata": {},
   "outputs": [
    {
     "data": {
      "text/plain": [
       "Exited               1.000000\n",
       "Age                  0.285323\n",
       "NumOfPr-3            0.255862\n",
       "NumOfPr-1            0.185447\n",
       "Germany              0.173488\n",
       "NumOfPr-4            0.153612\n",
       "Balance              0.118533\n",
       "Female               0.106512\n",
       "CreditScore_l_383    0.076633\n",
       "PensionAge           0.052667\n",
       "Balance_h_41186      0.023817\n",
       "Balance_l_41186      0.019347\n",
       "Tenure-1             0.017256\n",
       "Tenure-0             0.013566\n",
       "EstimatedSalary      0.012097\n",
       "Tenure-9             0.010469\n",
       "Tenure-3             0.006155\n",
       "Tenure-5             0.002351\n",
       "Tenure-10            0.001365\n",
       "Tenure-4             0.001281\n",
       "Tenure-6            -0.000822\n",
       "CustomerId          -0.006248\n",
       "CreditScore_h_785   -0.006712\n",
       "HasCrCard           -0.007138\n",
       "Tenure-8            -0.009654\n",
       "Tenure-2            -0.010115\n",
       "IsPensionAge        -0.012419\n",
       "Tenure              -0.014001\n",
       "RowNumber           -0.016571\n",
       "Tenure-7            -0.026492\n",
       "CreditScore         -0.027094\n",
       "NumOfProducts       -0.047820\n",
       "Spain               -0.052667\n",
       "France              -0.104955\n",
       "Male                -0.106512\n",
       "IsZeroBalance       -0.122357\n",
       "IsActiveMember      -0.156128\n",
       "NumOfPr-2           -0.292474\n",
       "Name: Exited, dtype: float64"
      ]
     },
     "execution_count": 68,
     "metadata": {},
     "output_type": "execute_result"
    }
   ],
   "source": [
    "data.corr(method='pearson')['Exited'].sort_values(ascending=False)"
   ]
  },
  {
   "cell_type": "code",
   "execution_count": 69,
   "id": "wrong-score",
   "metadata": {},
   "outputs": [
    {
     "name": "stdout",
     "output_type": "stream",
     "text": [
      "      count      mean       std  min       25%       50%      75%  max\n",
      "Age  3260.0  0.312063  0.145119  0.0  0.202703  0.297297  0.39527  1.0\n",
      "      count      mean       std  min       25%       50%       75%       max\n",
      "Age  2000.0  0.281385  0.139622  0.0  0.189189  0.256757  0.351351  0.905405\n",
      "Train metrics:\n",
      "              precision    recall  f1-score   support\n",
      "\n",
      "           0       0.73      0.68      0.70      1754\n",
      "           1       0.66      0.71      0.68      1506\n",
      "\n",
      "    accuracy                           0.69      3260\n",
      "   macro avg       0.69      0.69      0.69      3260\n",
      "weighted avg       0.70      0.69      0.69      3260\n",
      "\n",
      "-----------------\n",
      "Test metrics:\n",
      "              precision    recall  f1-score   support\n",
      "\n",
      "           0       0.72      0.90      0.80      1267\n",
      "           1       0.70      0.39      0.50       733\n",
      "\n",
      "    accuracy                           0.71      2000\n",
      "   macro avg       0.71      0.64      0.65      2000\n",
      "weighted avg       0.71      0.71      0.69      2000\n",
      "\n"
     ]
    }
   ],
   "source": [
    "train_df = data[['Age'] + ['Exited']].copy()\n",
    "\n",
    "# готовим переменные\n",
    "X = train_df.drop(['Exited'], axis=1)\n",
    "y = train_df['Exited']\n",
    "\n",
    "X_train, X_test, y_train, y_test = train_test_split(X, y, test_size=0.2, stratify=y, random_state=42)\n",
    "X_test = X_test.copy() # чтобы не было предупредления при стандартизации\n",
    "\n",
    "# downsampling\n",
    "downsampling_counts = int(y_train.value_counts()[1])\n",
    "downsampling_df = X_train.loc[y_train == 0].sample(downsampling_counts, random_state=42)\n",
    "sampling_X_train = pd.concat([X_train[y_train == 1], downsampling_df])\n",
    "sampling_y_train = y.loc[sampling_X_train.index].reset_index(drop=True)\n",
    "sampling_X_train = sampling_X_train.reset_index(drop=True)\n",
    "\n",
    "# MinMaxScaler\n",
    "minmax = MinMaxScaler()\n",
    "\n",
    "mm_age = minmax.fit_transform(sampling_X_train[['Age']])\n",
    "sampling_X_train.loc[:, 'Age'] = mm_age\n",
    "print(sampling_X_train[['Age']].describe().transpose())\n",
    "\n",
    "mm_age = minmax.transform(X_test[['Age']])\n",
    "X_test.loc[:, 'Age'] = mm_age\n",
    "print(X_test[['Age']].describe().transpose())\n",
    "\n",
    "# LogReg\n",
    "logress = LogisticRegression(max_iter=2000, penalty='l1', solver='saga')\n",
    "logress.fit(sampling_X_train, sampling_y_train)\n",
    "\n",
    "train_pred = logress.predict(sampling_X_train)\n",
    "test_pred = logress.predict(X_test)\n",
    "\n",
    "print('Train metrics:')\n",
    "print(classification_report(train_pred, sampling_y_train))\n",
    "print('-----------------')\n",
    "print('Test metrics:')\n",
    "print(classification_report(test_pred, y_test))"
   ]
  },
  {
   "cell_type": "code",
   "execution_count": 70,
   "id": "norman-edition",
   "metadata": {},
   "outputs": [
    {
     "name": "stdout",
     "output_type": "stream",
     "text": [
      "      count      mean       std  min       25%       50%      75%  max\n",
      "Age  3260.0  0.312063  0.145119  0.0  0.202703  0.297297  0.39527  1.0\n",
      "      count      mean       std  min       25%       50%       75%       max\n",
      "Age  2000.0  0.281385  0.139622  0.0  0.189189  0.256757  0.351351  0.905405\n",
      "Train metrics:\n",
      "              precision    recall  f1-score   support\n",
      "\n",
      "           0       0.78      0.68      0.73      1874\n",
      "           1       0.63      0.75      0.69      1386\n",
      "\n",
      "    accuracy                           0.71      3260\n",
      "   macro avg       0.71      0.71      0.71      3260\n",
      "weighted avg       0.72      0.71      0.71      3260\n",
      "\n",
      "-----------------\n",
      "Test metrics:\n",
      "              precision    recall  f1-score   support\n",
      "\n",
      "           0       0.77      0.90      0.83      1372\n",
      "           1       0.66      0.43      0.52       628\n",
      "\n",
      "    accuracy                           0.75      2000\n",
      "   macro avg       0.72      0.66      0.68      2000\n",
      "weighted avg       0.74      0.75      0.73      2000\n",
      "\n"
     ]
    }
   ],
   "source": [
    "train_df = data[['Age', 'NumOfPr-3'] + ['Exited']].copy()\n",
    "\n",
    "# готовим переменные\n",
    "X = train_df.drop(['Exited'], axis=1)\n",
    "y = train_df['Exited']\n",
    "\n",
    "X_train, X_test, y_train, y_test = train_test_split(X, y, test_size=0.2, stratify=y, random_state=42)\n",
    "X_test = X_test.copy() # чтобы не было предупредления при стандартизации\n",
    "\n",
    "# downsampling\n",
    "downsampling_counts = int(y_train.value_counts()[1])\n",
    "downsampling_df = X_train.loc[y_train == 0].sample(downsampling_counts, random_state=42)\n",
    "sampling_X_train = pd.concat([X_train[y_train == 1], downsampling_df])\n",
    "sampling_y_train = y.loc[sampling_X_train.index].reset_index(drop=True)\n",
    "sampling_X_train = sampling_X_train.reset_index(drop=True)\n",
    "\n",
    "# MinMaxScaler\n",
    "minmax = MinMaxScaler()\n",
    "\n",
    "mm_age = minmax.fit_transform(sampling_X_train[['Age']])\n",
    "sampling_X_train.loc[:, 'Age'] = mm_age\n",
    "print(sampling_X_train[['Age']].describe().transpose())\n",
    "\n",
    "mm_age = minmax.transform(X_test[['Age']])\n",
    "X_test.loc[:, 'Age'] = mm_age\n",
    "print(X_test[['Age']].describe().transpose())\n",
    "\n",
    "# LogReg\n",
    "logress = LogisticRegression(max_iter=2000, penalty='l1', solver='saga')\n",
    "logress.fit(sampling_X_train, sampling_y_train)\n",
    "\n",
    "train_pred = logress.predict(sampling_X_train)\n",
    "test_pred = logress.predict(X_test)\n",
    "\n",
    "print('Train metrics:')\n",
    "print(classification_report(train_pred, sampling_y_train))\n",
    "print('-----------------')\n",
    "print('Test metrics:')\n",
    "print(classification_report(test_pred, y_test))"
   ]
  },
  {
   "cell_type": "code",
   "execution_count": 71,
   "id": "offensive-hawaii",
   "metadata": {},
   "outputs": [
    {
     "name": "stdout",
     "output_type": "stream",
     "text": [
      "      count      mean       std  min       25%       50%      75%  max\n",
      "Age  3260.0  0.312063  0.145119  0.0  0.202703  0.297297  0.39527  1.0\n",
      "      count      mean       std  min       25%       50%       75%       max\n",
      "Age  2000.0  0.281385  0.139622  0.0  0.189189  0.256757  0.351351  0.905405\n",
      "Train metrics:\n",
      "              precision    recall  f1-score   support\n",
      "\n",
      "           0       0.72      0.72      0.72      1642\n",
      "           1       0.71      0.72      0.72      1618\n",
      "\n",
      "    accuracy                           0.72      3260\n",
      "   macro avg       0.72      0.72      0.72      3260\n",
      "weighted avg       0.72      0.72      0.72      3260\n",
      "\n",
      "-----------------\n",
      "Test metrics:\n",
      "              precision    recall  f1-score   support\n",
      "\n",
      "           0       0.72      0.91      0.80      1250\n",
      "           1       0.74      0.40      0.52       750\n",
      "\n",
      "    accuracy                           0.72      2000\n",
      "   macro avg       0.73      0.66      0.66      2000\n",
      "weighted avg       0.72      0.72      0.70      2000\n",
      "\n"
     ]
    }
   ],
   "source": [
    "train_df = data[['Age', 'NumOfPr-3', 'NumOfPr-1'] + ['Exited']].copy()\n",
    "\n",
    "# готовим переменные\n",
    "X = train_df.drop(['Exited'], axis=1)\n",
    "y = train_df['Exited']\n",
    "\n",
    "X_train, X_test, y_train, y_test = train_test_split(X, y, test_size=0.2, stratify=y, random_state=42)\n",
    "X_test = X_test.copy() # чтобы не было предупредления при стандартизации\n",
    "\n",
    "# downsampling\n",
    "downsampling_counts = int(y_train.value_counts()[1])\n",
    "downsampling_df = X_train.loc[y_train == 0].sample(downsampling_counts, random_state=42)\n",
    "sampling_X_train = pd.concat([X_train[y_train == 1], downsampling_df])\n",
    "sampling_y_train = y.loc[sampling_X_train.index].reset_index(drop=True)\n",
    "sampling_X_train = sampling_X_train.reset_index(drop=True)\n",
    "\n",
    "# MinMaxScaler\n",
    "minmax = MinMaxScaler()\n",
    "\n",
    "mm_age = minmax.fit_transform(sampling_X_train[['Age']])\n",
    "sampling_X_train.loc[:, 'Age'] = mm_age\n",
    "print(sampling_X_train[['Age']].describe().transpose())\n",
    "\n",
    "mm_age = minmax.transform(X_test[['Age']])\n",
    "X_test.loc[:, 'Age'] = mm_age\n",
    "print(X_test[['Age']].describe().transpose())\n",
    "\n",
    "# LogReg\n",
    "logress = LogisticRegression(max_iter=2000, penalty='l1', solver='saga')\n",
    "logress.fit(sampling_X_train, sampling_y_train)\n",
    "\n",
    "train_pred = logress.predict(sampling_X_train)\n",
    "test_pred = logress.predict(X_test)\n",
    "\n",
    "print('Train metrics:')\n",
    "print(classification_report(train_pred, sampling_y_train))\n",
    "print('-----------------')\n",
    "print('Test metrics:')\n",
    "print(classification_report(test_pred, y_test))"
   ]
  },
  {
   "cell_type": "code",
   "execution_count": 72,
   "id": "meaning-observation",
   "metadata": {},
   "outputs": [
    {
     "name": "stdout",
     "output_type": "stream",
     "text": [
      "      count      mean       std  min       25%       50%      75%  max\n",
      "Age  3260.0  0.312063  0.145119  0.0  0.202703  0.297297  0.39527  1.0\n",
      "      count      mean       std  min       25%       50%       75%       max\n",
      "Age  2000.0  0.281385  0.139622  0.0  0.189189  0.256757  0.351351  0.905405\n",
      "          count          mean       std       min       25%      50%  \\\n",
      "Balance  3260.0  1.743663e-17  1.000153 -1.325674 -1.325674  0.35026   \n",
      "\n",
      "              75%       max  \n",
      "Balance  0.767634  2.564729  \n",
      "          count      mean       std       min       25%       50%       75%  \\\n",
      "Balance  2000.0 -0.070617  1.024732 -1.325674 -1.325674  0.264368  0.761354   \n",
      "\n",
      "              max  \n",
      "Balance  2.768897  \n",
      "Train metrics:\n",
      "              precision    recall  f1-score   support\n",
      "\n",
      "           0       0.74      0.68      0.71      1769\n",
      "           1       0.66      0.72      0.68      1491\n",
      "\n",
      "    accuracy                           0.70      3260\n",
      "   macro avg       0.70      0.70      0.70      3260\n",
      "weighted avg       0.70      0.70      0.70      3260\n",
      "\n",
      "-----------------\n",
      "Test metrics:\n",
      "              precision    recall  f1-score   support\n",
      "\n",
      "           0       0.74      0.91      0.82      1305\n",
      "           1       0.71      0.41      0.52       695\n",
      "\n",
      "    accuracy                           0.74      2000\n",
      "   macro avg       0.72      0.66      0.67      2000\n",
      "weighted avg       0.73      0.74      0.71      2000\n",
      "\n"
     ]
    }
   ],
   "source": [
    "train_df = data[['Age', 'NumOfPr-3', 'Balance'] + ['Exited']].copy()\n",
    "\n",
    "# готовим переменные\n",
    "X = train_df.drop(['Exited'], axis=1)\n",
    "y = train_df['Exited']\n",
    "\n",
    "X_train, X_test, y_train, y_test = train_test_split(X, y, test_size=0.2, stratify=y, random_state=42)\n",
    "X_test = X_test.copy() # чтобы не было предупредления при стандартизации\n",
    "\n",
    "# downsampling\n",
    "downsampling_counts = int(y_train.value_counts()[1])\n",
    "downsampling_df = X_train.loc[y_train == 0].sample(downsampling_counts, random_state=42)\n",
    "sampling_X_train = pd.concat([X_train[y_train == 1], downsampling_df])\n",
    "sampling_y_train = y.loc[sampling_X_train.index].reset_index(drop=True)\n",
    "sampling_X_train = sampling_X_train.reset_index(drop=True)\n",
    "\n",
    "# MinMaxScaler\n",
    "minmax = MinMaxScaler()\n",
    "\n",
    "mm_age = minmax.fit_transform(sampling_X_train[['Age']])\n",
    "sampling_X_train.loc[:, 'Age'] = mm_age\n",
    "print(sampling_X_train[['Age']].describe().transpose())\n",
    "\n",
    "mm_age = minmax.transform(X_test[['Age']])\n",
    "X_test.loc[:, 'Age'] = mm_age\n",
    "print(X_test[['Age']].describe().transpose())\n",
    "\n",
    "# StandardScaler\n",
    "stdscaler = StandardScaler()\n",
    "\n",
    "ss_balance = stdscaler.fit_transform(sampling_X_train[['Balance']])\n",
    "sampling_X_train.loc[:, 'Balance'] = ss_balance\n",
    "print(sampling_X_train[['Balance']].describe().transpose())\n",
    "\n",
    "ss_balance = stdscaler.transform(X_test[['Balance']])\n",
    "X_test.loc[:, 'Balance'] = ss_balance\n",
    "print(X_test[['Balance']].describe().transpose())\n",
    "\n",
    "# LogReg\n",
    "logress = LogisticRegression(max_iter=2000, penalty='l1', solver='saga')\n",
    "logress.fit(sampling_X_train, sampling_y_train)\n",
    "\n",
    "train_pred = logress.predict(sampling_X_train)\n",
    "test_pred = logress.predict(X_test)\n",
    "\n",
    "print('Train metrics:')\n",
    "print(classification_report(train_pred, sampling_y_train))\n",
    "print('-----------------')\n",
    "print('Test metrics:')\n",
    "print(classification_report(test_pred, y_test))"
   ]
  },
  {
   "cell_type": "code",
   "execution_count": 73,
   "id": "hispanic-throw",
   "metadata": {},
   "outputs": [
    {
     "name": "stdout",
     "output_type": "stream",
     "text": [
      "      count      mean       std  min       25%       50%      75%  max\n",
      "Age  3260.0  0.312063  0.145119  0.0  0.202703  0.297297  0.39527  1.0\n",
      "      count      mean       std  min       25%       50%       75%       max\n",
      "Age  2000.0  0.281385  0.139622  0.0  0.189189  0.256757  0.351351  0.905405\n",
      "          count      mean       std  min  25%       50%      75%  max\n",
      "Balance  3260.0  0.340755  0.257082  0.0  0.0  0.430787  0.53807  1.0\n",
      "          count      mean     std  min  25%       50%       75%      max\n",
      "Balance  2000.0  0.322603  0.2634  0.0  0.0  0.408709  0.536456  1.05248\n",
      "Train metrics:\n",
      "              precision    recall  f1-score   support\n",
      "\n",
      "           0       0.74      0.68      0.71      1777\n",
      "           1       0.65      0.72      0.69      1483\n",
      "\n",
      "    accuracy                           0.70      3260\n",
      "   macro avg       0.70      0.70      0.70      3260\n",
      "weighted avg       0.70      0.70      0.70      3260\n",
      "\n",
      "-----------------\n",
      "Test metrics:\n",
      "              precision    recall  f1-score   support\n",
      "\n",
      "           0       0.74      0.91      0.82      1306\n",
      "           1       0.71      0.41      0.52       694\n",
      "\n",
      "    accuracy                           0.74      2000\n",
      "   macro avg       0.72      0.66      0.67      2000\n",
      "weighted avg       0.73      0.74      0.72      2000\n",
      "\n"
     ]
    }
   ],
   "source": [
    "train_df = data[['Age', 'NumOfPr-3', 'Balance'] + ['Exited']].copy()\n",
    "\n",
    "# готовим переменные\n",
    "X = train_df.drop(['Exited'], axis=1)\n",
    "y = train_df['Exited']\n",
    "\n",
    "X_train, X_test, y_train, y_test = train_test_split(X, y, test_size=0.2, stratify=y, random_state=42)\n",
    "X_test = X_test.copy() # чтобы не было предупредления при стандартизации\n",
    "\n",
    "# downsampling\n",
    "downsampling_counts = int(y_train.value_counts()[1])\n",
    "downsampling_df = X_train.loc[y_train == 0].sample(downsampling_counts, random_state=42)\n",
    "sampling_X_train = pd.concat([X_train[y_train == 1], downsampling_df])\n",
    "sampling_y_train = y.loc[sampling_X_train.index].reset_index(drop=True)\n",
    "sampling_X_train = sampling_X_train.reset_index(drop=True)\n",
    "\n",
    "# MinMaxScaler\n",
    "minmax = MinMaxScaler()\n",
    "\n",
    "mm_age = minmax.fit_transform(sampling_X_train[['Age']])\n",
    "sampling_X_train.loc[:, 'Age'] = mm_age\n",
    "print(sampling_X_train[['Age']].describe().transpose())\n",
    "\n",
    "mm_age = minmax.transform(X_test[['Age']])\n",
    "X_test.loc[:, 'Age'] = mm_age\n",
    "print(X_test[['Age']].describe().transpose())\n",
    "\n",
    "# MinMaxScaler\n",
    "minmax = MinMaxScaler()\n",
    "\n",
    "mm_balance = minmax.fit_transform(sampling_X_train[['Balance']])\n",
    "sampling_X_train.loc[:, 'Balance'] = mm_balance\n",
    "print(sampling_X_train[['Balance']].describe().transpose())\n",
    "\n",
    "mm_balance = minmax.transform(X_test[['Balance']])\n",
    "X_test.loc[:, 'Balance'] = mm_balance\n",
    "print(X_test[['Balance']].describe().transpose())\n",
    "\n",
    "# LogReg\n",
    "logress = LogisticRegression(max_iter=2000, penalty='l1', solver='saga')\n",
    "logress.fit(sampling_X_train, sampling_y_train)\n",
    "\n",
    "train_pred = logress.predict(sampling_X_train)\n",
    "test_pred = logress.predict(X_test)\n",
    "\n",
    "print('Train metrics:')\n",
    "print(classification_report(train_pred, sampling_y_train))\n",
    "print('-----------------')\n",
    "print('Test metrics:')\n",
    "print(classification_report(test_pred, y_test))"
   ]
  },
  {
   "cell_type": "code",
   "execution_count": 74,
   "id": "genuine-reynolds",
   "metadata": {},
   "outputs": [
    {
     "name": "stdout",
     "output_type": "stream",
     "text": [
      "      count      mean       std  min       25%       50%      75%  max\n",
      "Age  3260.0  0.312063  0.145119  0.0  0.202703  0.297297  0.39527  1.0\n",
      "      count      mean       std  min       25%       50%       75%       max\n",
      "Age  2000.0  0.281385  0.139622  0.0  0.189189  0.256757  0.351351  0.905405\n",
      "Train metrics:\n",
      "              precision    recall  f1-score   support\n",
      "\n",
      "           0       0.71      0.68      0.70      1702\n",
      "           1       0.67      0.70      0.68      1558\n",
      "\n",
      "    accuracy                           0.69      3260\n",
      "   macro avg       0.69      0.69      0.69      3260\n",
      "weighted avg       0.69      0.69      0.69      3260\n",
      "\n",
      "-----------------\n",
      "Test metrics:\n",
      "              precision    recall  f1-score   support\n",
      "\n",
      "           0       0.71      0.89      0.79      1262\n",
      "           1       0.67      0.37      0.48       738\n",
      "\n",
      "    accuracy                           0.70      2000\n",
      "   macro avg       0.69      0.63      0.63      2000\n",
      "weighted avg       0.70      0.70      0.68      2000\n",
      "\n"
     ]
    }
   ],
   "source": [
    "train_df = data[['Age', 'Female'] + ['Exited']].copy()\n",
    "\n",
    "# готовим переменные\n",
    "X = train_df.drop(['Exited'], axis=1)\n",
    "y = train_df['Exited']\n",
    "\n",
    "X_train, X_test, y_train, y_test = train_test_split(X, y, test_size=0.2, stratify=y, random_state=42)\n",
    "X_test = X_test.copy() # чтобы не было предупредления при стандартизации\n",
    "\n",
    "# downsampling\n",
    "downsampling_counts = int(y_train.value_counts()[1])\n",
    "downsampling_df = X_train.loc[y_train == 0].sample(downsampling_counts, random_state=42)\n",
    "sampling_X_train = pd.concat([X_train[y_train == 1], downsampling_df])\n",
    "sampling_y_train = y.loc[sampling_X_train.index].reset_index(drop=True)\n",
    "sampling_X_train = sampling_X_train.reset_index(drop=True)\n",
    "\n",
    "# MinMaxScaler\n",
    "minmax = MinMaxScaler()\n",
    "\n",
    "mm_age = minmax.fit_transform(sampling_X_train[['Age']])\n",
    "sampling_X_train.loc[:, 'Age'] = mm_age\n",
    "print(sampling_X_train[['Age']].describe().transpose())\n",
    "\n",
    "mm_age = minmax.transform(X_test[['Age']])\n",
    "X_test.loc[:, 'Age'] = mm_age\n",
    "print(X_test[['Age']].describe().transpose())\n",
    "\n",
    "# LogReg\n",
    "logress = LogisticRegression(max_iter=2000, penalty='l1', solver='saga')\n",
    "logress.fit(sampling_X_train, sampling_y_train)\n",
    "\n",
    "train_pred = logress.predict(sampling_X_train)\n",
    "test_pred = logress.predict(X_test)\n",
    "\n",
    "print('Train metrics:')\n",
    "print(classification_report(train_pred, sampling_y_train))\n",
    "print('-----------------')\n",
    "print('Test metrics:')\n",
    "print(classification_report(test_pred, y_test))"
   ]
  },
  {
   "cell_type": "markdown",
   "id": "round-tender",
   "metadata": {},
   "source": [
    "В принципе более простая модель с 'Age', 'NumOfPr-3' показала сопоставимый результат. Попробуем параметры подобрать."
   ]
  },
  {
   "cell_type": "code",
   "execution_count": 75,
   "id": "directed-transsexual",
   "metadata": {},
   "outputs": [
    {
     "name": "stdout",
     "output_type": "stream",
     "text": [
      "      count      mean       std  min       25%       50%      75%  max\n",
      "Age  3260.0  0.312063  0.145119  0.0  0.202703  0.297297  0.39527  1.0\n",
      "      count      mean       std  min       25%       50%       75%       max\n",
      "Age  2000.0  0.281385  0.139622  0.0  0.189189  0.256757  0.351351  0.905405\n",
      "Train metrics:\n",
      "              precision    recall  f1-score   support\n",
      "\n",
      "           0       0.78      0.68      0.73      1874\n",
      "           1       0.63      0.75      0.69      1386\n",
      "\n",
      "    accuracy                           0.71      3260\n",
      "   macro avg       0.71      0.71      0.71      3260\n",
      "weighted avg       0.72      0.71      0.71      3260\n",
      "\n",
      "-----------------\n",
      "Test metrics:\n",
      "              precision    recall  f1-score   support\n",
      "\n",
      "           0       0.77      0.90      0.83      1372\n",
      "           1       0.66      0.43      0.52       628\n",
      "\n",
      "    accuracy                           0.75      2000\n",
      "   macro avg       0.72      0.66      0.68      2000\n",
      "weighted avg       0.74      0.75      0.73      2000\n",
      "\n"
     ]
    }
   ],
   "source": [
    "train_df = data[['Age', 'NumOfPr-3'] + ['Exited']].copy()\n",
    "\n",
    "# готовим переменные\n",
    "X = train_df.drop(['Exited'], axis=1)\n",
    "y = train_df['Exited']\n",
    "\n",
    "X_train, X_test, y_train, y_test = train_test_split(X, y, test_size=0.2, stratify=y, random_state=42)\n",
    "X_test = X_test.copy() # чтобы не было предупредления при стандартизации\n",
    "\n",
    "# downsampling\n",
    "downsampling_counts = int(y_train.value_counts()[1])\n",
    "downsampling_df = X_train.loc[y_train == 0].sample(downsampling_counts, random_state=42)\n",
    "sampling_X_train = pd.concat([X_train[y_train == 1], downsampling_df])\n",
    "sampling_y_train = y.loc[sampling_X_train.index].reset_index(drop=True)\n",
    "sampling_X_train = sampling_X_train.reset_index(drop=True)\n",
    "\n",
    "# MinMaxScaler\n",
    "minmax = MinMaxScaler()\n",
    "\n",
    "mm_age = minmax.fit_transform(sampling_X_train[['Age']])\n",
    "sampling_X_train.loc[:, 'Age'] = mm_age\n",
    "print(sampling_X_train[['Age']].describe().transpose())\n",
    "\n",
    "mm_age = minmax.transform(X_test[['Age']])\n",
    "X_test.loc[:, 'Age'] = mm_age\n",
    "print(X_test[['Age']].describe().transpose())\n",
    "\n",
    "# LogReg\n",
    "logress = LogisticRegression(max_iter=2000, penalty='l1', solver='saga')\n",
    "logress.fit(sampling_X_train, sampling_y_train)\n",
    "\n",
    "train_pred = logress.predict(sampling_X_train)\n",
    "test_pred = logress.predict(X_test)\n",
    "\n",
    "print('Train metrics:')\n",
    "print(classification_report(train_pred, sampling_y_train))\n",
    "print('-----------------')\n",
    "print('Test metrics:')\n",
    "print(classification_report(test_pred, y_test))"
   ]
  },
  {
   "cell_type": "code",
   "execution_count": 76,
   "id": "following-function",
   "metadata": {},
   "outputs": [
    {
     "data": {
      "text/plain": [
       "{'C': 0.25, 'max_iter': 2000, 'penalty': 'l1', 'solver': 'saga'}"
      ]
     },
     "execution_count": 76,
     "metadata": {},
     "output_type": "execute_result"
    }
   ],
   "source": [
    "# GridSearch\n",
    "params = {\"penalty\": ['l1', 'l2'],\n",
    "         \"C\": np.arange(0.25, 1.10, 0.25),\n",
    "        \"solver\": ['saga'],\n",
    "         \"max_iter\": [2000]}\n",
    "\n",
    "# LogisticRegression()\n",
    "results = GridSearchCV(LogisticRegression(), params, cv=3, n_jobs=-1, scoring='f1')\n",
    "results.fit(sampling_X_train, sampling_y_train)\n",
    "results.best_params_"
   ]
  },
  {
   "cell_type": "code",
   "execution_count": 77,
   "id": "religious-dispute",
   "metadata": {},
   "outputs": [
    {
     "name": "stdout",
     "output_type": "stream",
     "text": [
      "Train metrics:\n",
      "              precision    recall  f1-score   support\n",
      "\n",
      "           0       0.78      0.68      0.73      1874\n",
      "           1       0.63      0.75      0.69      1386\n",
      "\n",
      "    accuracy                           0.71      3260\n",
      "   macro avg       0.71      0.71      0.71      3260\n",
      "weighted avg       0.72      0.71      0.71      3260\n",
      "\n",
      "-----------------\n",
      "Test metrics:\n",
      "              precision    recall  f1-score   support\n",
      "\n",
      "           0       0.77      0.90      0.83      1372\n",
      "           1       0.66      0.43      0.52       628\n",
      "\n",
      "    accuracy                           0.75      2000\n",
      "   macro avg       0.72      0.66      0.68      2000\n",
      "weighted avg       0.74      0.75      0.73      2000\n",
      "\n"
     ]
    }
   ],
   "source": [
    "logress = LogisticRegression(C=0.25, max_iter=2000, penalty='l1', solver='saga')\n",
    "logress.fit(sampling_X_train, sampling_y_train)\n",
    "\n",
    "train_pred = logress.predict(sampling_X_train)\n",
    "test_pred = logress.predict(X_test)\n",
    "\n",
    "print('Train metrics:')\n",
    "print(classification_report(train_pred, sampling_y_train))\n",
    "print('-----------------')\n",
    "print('Test metrics:')\n",
    "print(classification_report(test_pred, y_test))"
   ]
  },
  {
   "cell_type": "code",
   "execution_count": 78,
   "id": "advisory-diana",
   "metadata": {},
   "outputs": [
    {
     "data": {
      "text/plain": [
       "array([[5.10753941, 2.31796474]])"
      ]
     },
     "execution_count": 78,
     "metadata": {},
     "output_type": "execute_result"
    }
   ],
   "source": [
    "logress.coef_"
   ]
  },
  {
   "cell_type": "markdown",
   "id": "laughing-bargain",
   "metadata": {},
   "source": [
    "Любопытный результат. Модель с меньшим количеством переменных дала сопоставимый результат с более сложной моделью. "
   ]
  }
 ],
 "metadata": {
  "kernelspec": {
   "display_name": "Python 3",
   "language": "python",
   "name": "python3"
  },
  "language_info": {
   "codemirror_mode": {
    "name": "ipython",
    "version": 3
   },
   "file_extension": ".py",
   "mimetype": "text/x-python",
   "name": "python",
   "nbconvert_exporter": "python",
   "pygments_lexer": "ipython3",
   "version": "3.7.4"
  }
 },
 "nbformat": 4,
 "nbformat_minor": 5
}
