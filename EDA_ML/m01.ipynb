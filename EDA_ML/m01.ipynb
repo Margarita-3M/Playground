{
 "cells": [
  {
   "cell_type": "markdown",
   "id": "finite-amendment",
   "metadata": {},
   "source": [
    "## Занятие 01. \"Постановки задач машинного обучения и библиотеки\"\n",
    "Домашнее задание выполнено **Мельниковой Маргаритой**\n",
    "\n",
    "---\n",
    "### Задача\n",
    "- Вам нужно сделать предобработку данных, аналогичную на занятии. \n",
    "- Расписывайте в Markdown ваши шаги, и почему вы взяли медину вместо среднего, например.\n",
    "- Это покажет то, как вы рассуждаете.\n",
    "\n",
    "#### Пояснение по столбцам:\n",
    "- ID - Unique number for each athlete\n",
    "- Name - Athlete's name\n",
    "- Sex - M or F\n",
    "- Age - Integer\n",
    "- Height - In centimeters\n",
    "- Weight - In kilograms\n",
    "- Team - Team name\n",
    "- NOC - National Olympic Committee 3-letter code\n",
    "- Games - Year and season\n",
    "- Year - Integer\n",
    "- Season - Summer or Winter\n",
    "- City - Host city\n",
    "- Sport - Sport\n",
    "- Event - Event\n",
    "- Medal - Gold, Silver, Bronze, or NA\n",
    "---\n",
    "### Решение"
   ]
  },
  {
   "cell_type": "code",
   "execution_count": 1,
   "id": "innocent-equity",
   "metadata": {},
   "outputs": [],
   "source": [
    "import pandas as pd\n",
    "import matplotlib.pyplot as plt\n",
    "import seaborn as sns"
   ]
  },
  {
   "cell_type": "code",
   "execution_count": 2,
   "id": "endless-tooth",
   "metadata": {},
   "outputs": [],
   "source": [
    "# importing dataset\n",
    "url = 'https://drive.google.com/file/d/1dvXAx4sD4g3AfXzLvI_UcQAtQN70qOz-/view?usp=sharing'\n",
    "path = 'https://drive.google.com/uc?export=download&id=' + url.split('/')[-2]\n",
    "\n",
    "data = pd.read_csv(path)"
   ]
  },
  {
   "cell_type": "markdown",
   "id": "peaceful-contrast",
   "metadata": {},
   "source": [
    "##### Знакомство с данными"
   ]
  },
  {
   "cell_type": "code",
   "execution_count": 3,
   "id": "urban-tenant",
   "metadata": {},
   "outputs": [
    {
     "data": {
      "text/html": [
       "<div>\n",
       "<style scoped>\n",
       "    .dataframe tbody tr th:only-of-type {\n",
       "        vertical-align: middle;\n",
       "    }\n",
       "\n",
       "    .dataframe tbody tr th {\n",
       "        vertical-align: top;\n",
       "    }\n",
       "\n",
       "    .dataframe thead th {\n",
       "        text-align: right;\n",
       "    }\n",
       "</style>\n",
       "<table border=\"1\" class=\"dataframe\">\n",
       "  <thead>\n",
       "    <tr style=\"text-align: right;\">\n",
       "      <th></th>\n",
       "      <th>ID</th>\n",
       "      <th>Name</th>\n",
       "      <th>Sex</th>\n",
       "      <th>Age</th>\n",
       "      <th>Height</th>\n",
       "      <th>Weight</th>\n",
       "      <th>Team</th>\n",
       "      <th>NOC</th>\n",
       "      <th>Games</th>\n",
       "      <th>Year</th>\n",
       "      <th>Season</th>\n",
       "      <th>City</th>\n",
       "      <th>Sport</th>\n",
       "      <th>Event</th>\n",
       "      <th>Medal</th>\n",
       "    </tr>\n",
       "  </thead>\n",
       "  <tbody>\n",
       "    <tr>\n",
       "      <th>0</th>\n",
       "      <td>1</td>\n",
       "      <td>A Dijiang</td>\n",
       "      <td>M</td>\n",
       "      <td>24.0</td>\n",
       "      <td>180.0</td>\n",
       "      <td>80.0</td>\n",
       "      <td>China</td>\n",
       "      <td>CHN</td>\n",
       "      <td>1992 Summer</td>\n",
       "      <td>1992</td>\n",
       "      <td>Summer</td>\n",
       "      <td>Barcelona</td>\n",
       "      <td>Basketball</td>\n",
       "      <td>Basketball Men's Basketball</td>\n",
       "      <td>NaN</td>\n",
       "    </tr>\n",
       "    <tr>\n",
       "      <th>1</th>\n",
       "      <td>2</td>\n",
       "      <td>A Lamusi</td>\n",
       "      <td>M</td>\n",
       "      <td>23.0</td>\n",
       "      <td>170.0</td>\n",
       "      <td>60.0</td>\n",
       "      <td>China</td>\n",
       "      <td>CHN</td>\n",
       "      <td>2012 Summer</td>\n",
       "      <td>2012</td>\n",
       "      <td>Summer</td>\n",
       "      <td>London</td>\n",
       "      <td>Judo</td>\n",
       "      <td>Judo Men's Extra-Lightweight</td>\n",
       "      <td>NaN</td>\n",
       "    </tr>\n",
       "    <tr>\n",
       "      <th>2</th>\n",
       "      <td>3</td>\n",
       "      <td>Gunnar Nielsen Aaby</td>\n",
       "      <td>M</td>\n",
       "      <td>24.0</td>\n",
       "      <td>NaN</td>\n",
       "      <td>NaN</td>\n",
       "      <td>Denmark</td>\n",
       "      <td>DEN</td>\n",
       "      <td>1920 Summer</td>\n",
       "      <td>1920</td>\n",
       "      <td>Summer</td>\n",
       "      <td>Antwerpen</td>\n",
       "      <td>Football</td>\n",
       "      <td>Football Men's Football</td>\n",
       "      <td>NaN</td>\n",
       "    </tr>\n",
       "    <tr>\n",
       "      <th>3</th>\n",
       "      <td>4</td>\n",
       "      <td>Edgar Lindenau Aabye</td>\n",
       "      <td>M</td>\n",
       "      <td>34.0</td>\n",
       "      <td>NaN</td>\n",
       "      <td>NaN</td>\n",
       "      <td>Denmark/Sweden</td>\n",
       "      <td>DEN</td>\n",
       "      <td>1900 Summer</td>\n",
       "      <td>1900</td>\n",
       "      <td>Summer</td>\n",
       "      <td>Paris</td>\n",
       "      <td>Tug-Of-War</td>\n",
       "      <td>Tug-Of-War Men's Tug-Of-War</td>\n",
       "      <td>Gold</td>\n",
       "    </tr>\n",
       "    <tr>\n",
       "      <th>4</th>\n",
       "      <td>5</td>\n",
       "      <td>Christine Jacoba Aaftink</td>\n",
       "      <td>F</td>\n",
       "      <td>21.0</td>\n",
       "      <td>185.0</td>\n",
       "      <td>82.0</td>\n",
       "      <td>Netherlands</td>\n",
       "      <td>NED</td>\n",
       "      <td>1988 Winter</td>\n",
       "      <td>1988</td>\n",
       "      <td>Winter</td>\n",
       "      <td>Calgary</td>\n",
       "      <td>Speed Skating</td>\n",
       "      <td>Speed Skating Women's 500 metres</td>\n",
       "      <td>NaN</td>\n",
       "    </tr>\n",
       "  </tbody>\n",
       "</table>\n",
       "</div>"
      ],
      "text/plain": [
       "   ID                      Name Sex   Age  Height  Weight            Team  \\\n",
       "0   1                 A Dijiang   M  24.0   180.0    80.0           China   \n",
       "1   2                  A Lamusi   M  23.0   170.0    60.0           China   \n",
       "2   3       Gunnar Nielsen Aaby   M  24.0     NaN     NaN         Denmark   \n",
       "3   4      Edgar Lindenau Aabye   M  34.0     NaN     NaN  Denmark/Sweden   \n",
       "4   5  Christine Jacoba Aaftink   F  21.0   185.0    82.0     Netherlands   \n",
       "\n",
       "   NOC        Games  Year  Season       City          Sport  \\\n",
       "0  CHN  1992 Summer  1992  Summer  Barcelona     Basketball   \n",
       "1  CHN  2012 Summer  2012  Summer     London           Judo   \n",
       "2  DEN  1920 Summer  1920  Summer  Antwerpen       Football   \n",
       "3  DEN  1900 Summer  1900  Summer      Paris     Tug-Of-War   \n",
       "4  NED  1988 Winter  1988  Winter    Calgary  Speed Skating   \n",
       "\n",
       "                              Event Medal  \n",
       "0       Basketball Men's Basketball   NaN  \n",
       "1      Judo Men's Extra-Lightweight   NaN  \n",
       "2           Football Men's Football   NaN  \n",
       "3       Tug-Of-War Men's Tug-Of-War  Gold  \n",
       "4  Speed Skating Women's 500 metres   NaN  "
      ]
     },
     "execution_count": 3,
     "metadata": {},
     "output_type": "execute_result"
    }
   ],
   "source": [
    "data.head()"
   ]
  },
  {
   "cell_type": "code",
   "execution_count": 4,
   "id": "forward-search",
   "metadata": {},
   "outputs": [
    {
     "name": "stdout",
     "output_type": "stream",
     "text": [
      "<class 'pandas.core.frame.DataFrame'>\n",
      "RangeIndex: 271116 entries, 0 to 271115\n",
      "Data columns (total 15 columns):\n",
      " #   Column  Non-Null Count   Dtype  \n",
      "---  ------  --------------   -----  \n",
      " 0   ID      271116 non-null  int64  \n",
      " 1   Name    271116 non-null  object \n",
      " 2   Sex     271116 non-null  object \n",
      " 3   Age     261642 non-null  float64\n",
      " 4   Height  210945 non-null  float64\n",
      " 5   Weight  208241 non-null  float64\n",
      " 6   Team    271116 non-null  object \n",
      " 7   NOC     271116 non-null  object \n",
      " 8   Games   271116 non-null  object \n",
      " 9   Year    271116 non-null  int64  \n",
      " 10  Season  271116 non-null  object \n",
      " 11  City    271116 non-null  object \n",
      " 12  Sport   271116 non-null  object \n",
      " 13  Event   271116 non-null  object \n",
      " 14  Medal   39783 non-null   object \n",
      "dtypes: float64(3), int64(2), object(10)\n",
      "memory usage: 31.0+ MB\n"
     ]
    }
   ],
   "source": [
    "data.info()"
   ]
  },
  {
   "cell_type": "markdown",
   "id": "thorough-phase",
   "metadata": {},
   "source": [
    "> Изучим значения переменных 'Age', 'Height', 'Weight'."
   ]
  },
  {
   "cell_type": "code",
   "execution_count": 5,
   "id": "further-nigeria",
   "metadata": {},
   "outputs": [
    {
     "name": "stdout",
     "output_type": "stream",
     "text": [
      "Age [24. 23. 34. 21. 25. 27. 31. 33. 18. 26. 22. 30. 32. 28. 54. 20. 17. 43.\n",
      " 47. 29. 41. 45. 49. 53. 57. nan 19. 38. 35. 16. 37. 15. 42. 46. 40. 36.\n",
      " 14. 39. 48. 52. 44. 55. 50. 71. 63. 51. 58. 13. 60. 75. 65. 56. 64. 68.\n",
      " 84. 12. 72. 59. 61. 70. 74. 62. 67. 69. 73. 66. 11. 76. 88. 96. 80. 10.\n",
      " 81. 77. 97.]\n",
      "Height [180. 170.  nan 185. 188. 183. 168. 186. 182. 172. 159. 171. 184. 175.\n",
      " 189. 176. 163. 187. 169. 174. 190. 194. 177. 167. 164. 198. 165. 156.\n",
      " 179. 178. 166. 181. 155. 160. 173. 192. 195. 191. 203. 158. 154. 153.\n",
      " 152. 193. 162. 197. 157. 207. 147. 150. 202. 161. 210. 205. 200. 148.\n",
      " 208. 140. 213. 204. 151. 196. 146. 201. 132. 149. 199. 211. 215. 139.\n",
      " 206. 135. 142. 217. 209. 145. 221. 144. 214. 143. 218. 127. 223. 216.\n",
      " 141. 212. 131. 136. 137. 138. 220. 130. 219. 133. 128. 226.]\n",
      "Weight [ 80.          60.                  nan  82.          75.\n",
      "  72.          96.          76.5         70.          55.5\n",
      "  65.          85.          64.         130.         125.\n",
      "  89.          77.          76.          98.          78.\n",
      "  73.          93.          74.         106.          58.\n",
      "  66.          71.          90.          87.          49.\n",
      "  48.          83.          86.          55.          67.\n",
      "  97.         105.          43.          79.          51.\n",
      "  88.          62.          53.         104.          57.\n",
      "  63.          52.          91.          94.          56.\n",
      "  68.          61.          69.          46.         100.\n",
      "  81.          92.         120.          95.          59.\n",
      "  50.         117.5         54.          47.         117.\n",
      "  84.         102.          40.         115.         110.\n",
      "  45.          99.         109.          69.5        135.\n",
      "  38.          77.5        103.         163.         113.\n",
      "  42.          91.5         82.5         68.5        116.\n",
      " 107.          96.5         83.5         44.         122.\n",
      " 102.5         71.5        156.         150.         160.\n",
      "  95.5        101.         146.         138.         112.\n",
      " 108.         140.         141.          63.5        114.\n",
      " 118.          52.5        127.          39.          73.5\n",
      " 155.          74.5         32.         143.         133.\n",
      "  70.5        126.          53.5        121.          67.5\n",
      " 111.         123.5         41.          36.         132.\n",
      " 128.          65.5         98.5        124.          59.5\n",
      "  66.5        127.5         35.         144.          58.5\n",
      " 214.          81.5         37.         146.5        116.5\n",
      " 148.         123.          89.5        133.5         86.5\n",
      "  85.5        101.5        154.         139.          57.5\n",
      " 136.          54.5        137.         170.          30.\n",
      "  25.          77.33333333 131.          79.5         34.\n",
      " 119.         134.          33.         109.5         90.5\n",
      " 129.         147.          56.5         78.5        165.\n",
      "  88.5         62.5         60.5        158.          75.5\n",
      " 190.          64.5        145.         121.5         61.5\n",
      " 161.         176.5         87.5        100.5        149.\n",
      " 152.         108.5         28.          48.5        138.5\n",
      "  72.5        129.5        131.5        167.          84.5\n",
      "  49.5         51.5        112.5        118.5        142.\n",
      "  80.5        106.5        107.5         31.         135.5\n",
      " 137.5         93.5         97.5        103.5        175.\n",
      " 151.         198.         178.          92.5        180.\n",
      " 104.5        105.5        122.5        182.          74.66666667\n",
      " 130.5       ]\n"
     ]
    }
   ],
   "source": [
    "num_cols = ['Age', 'Height', 'Weight']\n",
    "\n",
    "for col in num_cols:\n",
    "    print(col, data[col].unique())"
   ]
  },
  {
   "cell_type": "markdown",
   "id": "artistic-street",
   "metadata": {},
   "source": [
    "> Значения переменных возраста и роста (в данном датасете) дискретны, вес - неприрывная величина. </br>\n",
    "После обработки пропусков (np.nan - float) заменим тип на integer для возраста и роста."
   ]
  },
  {
   "cell_type": "markdown",
   "id": "powerful-officer",
   "metadata": {},
   "source": [
    "##### Работа с дубликатами"
   ]
  },
  {
   "cell_type": "code",
   "execution_count": 6,
   "id": "worse-homeless",
   "metadata": {},
   "outputs": [
    {
     "data": {
      "text/plain": [
       "(271116, 15)"
      ]
     },
     "execution_count": 6,
     "metadata": {},
     "output_type": "execute_result"
    }
   ],
   "source": [
    "# размерность до удаления дубликатов\n",
    "data.shape"
   ]
  },
  {
   "cell_type": "code",
   "execution_count": 7,
   "id": "municipal-vehicle",
   "metadata": {},
   "outputs": [
    {
     "data": {
      "text/plain": [
       "(269731, 15)"
      ]
     },
     "execution_count": 7,
     "metadata": {},
     "output_type": "execute_result"
    }
   ],
   "source": [
    "data = data.drop_duplicates()\n",
    "# размерность после удаления дубликатов\n",
    "data.shape"
   ]
  },
  {
   "cell_type": "markdown",
   "id": "naked-debut",
   "metadata": {},
   "source": [
    "##### Работа с пропусками"
   ]
  },
  {
   "cell_type": "markdown",
   "id": "green-manufacturer",
   "metadata": {},
   "source": [
    "> Доля пропущенных значений, %:"
   ]
  },
  {
   "cell_type": "code",
   "execution_count": 8,
   "id": "actual-appearance",
   "metadata": {},
   "outputs": [
    {
     "data": {
      "text/plain": [
       "ID         0.000000\n",
       "Name       0.000000\n",
       "Sex        0.000000\n",
       "Age        3.453441\n",
       "Height    21.804687\n",
       "Weight    22.810504\n",
       "Team       0.000000\n",
       "NOC        0.000000\n",
       "Games      0.000000\n",
       "Year       0.000000\n",
       "Season     0.000000\n",
       "City       0.000000\n",
       "Sport      0.000000\n",
       "Event      0.000000\n",
       "Medal     85.254939\n",
       "dtype: float64"
      ]
     },
     "execution_count": 8,
     "metadata": {},
     "output_type": "execute_result"
    }
   ],
   "source": [
    "data.isnull().mean()*100"
   ]
  },
  {
   "cell_type": "markdown",
   "id": "blocked-wright",
   "metadata": {},
   "source": [
    "> **Возраст ('Age')**"
   ]
  },
  {
   "cell_type": "code",
   "execution_count": 9,
   "id": "introductory-question",
   "metadata": {},
   "outputs": [
    {
     "data": {
      "text/plain": [
       "<seaborn.axisgrid.FacetGrid at 0x7fa44b3ab0a0>"
      ]
     },
     "execution_count": 9,
     "metadata": {},
     "output_type": "execute_result"
    },
    {
     "data": {
      "image/png": "[encoded data removed]",
      "text/plain": [
       "<Figure size 404.625x360 with 1 Axes>"
      ]
     },
     "metadata": {
      "needs_background": "light"
     },
     "output_type": "display_data"
    }
   ],
   "source": [
    "sns.displot(data=data, x='Age', hue='Sex', kde=True)"
   ]
  },
  {
   "cell_type": "code",
   "execution_count": 10,
   "id": "floppy-germany",
   "metadata": {},
   "outputs": [
    {
     "data": {
      "text/plain": [
       "<AxesSubplot:xlabel='Age', ylabel='Sex'>"
      ]
     },
     "execution_count": 10,
     "metadata": {},
     "output_type": "execute_result"
    },
    {
     "data": {
      "image/png": "[encoded data removed]",
      "text/plain": [
       "<Figure size 432x288 with 1 Axes>"
      ]
     },
     "metadata": {
      "needs_background": "light"
     },
     "output_type": "display_data"
    }
   ],
   "source": [
    "sns.boxplot(data=data, y=\"Sex\", x=\"Age\")"
   ]
  },
  {
   "cell_type": "markdown",
   "id": "figured-perry",
   "metadata": {},
   "source": [
    "> Распределение возраста спортсменов зависит от пола. </br>\n",
    "> Распределение спортсменов по возрасту скошено, поэтому для обработки пропусков возраста возьмем медиану в разрезе пола."
   ]
  },
  {
   "cell_type": "markdown",
   "id": "embedded-oasis",
   "metadata": {},
   "source": [
    "> **Рост ('Height')**"
   ]
  },
  {
   "cell_type": "code",
   "execution_count": 11,
   "id": "afraid-developer",
   "metadata": {},
   "outputs": [
    {
     "data": {
      "text/plain": [
       "<seaborn.axisgrid.FacetGrid at 0x7fa45011d160>"
      ]
     },
     "execution_count": 11,
     "metadata": {},
     "output_type": "execute_result"
    },
    {
     "data": {
      "image/png": "[encoded data removed]",
      "text/plain": [
       "<Figure size 404.625x360 with 1 Axes>"
      ]
     },
     "metadata": {
      "needs_background": "light"
     },
     "output_type": "display_data"
    }
   ],
   "source": [
    "sns.displot(data=data, x='Height', hue='Sex', kde=True)"
   ]
  },
  {
   "cell_type": "code",
   "execution_count": 12,
   "id": "separated-affiliation",
   "metadata": {},
   "outputs": [
    {
     "data": {
      "text/plain": [
       "<AxesSubplot:xlabel='Height', ylabel='Sex'>"
      ]
     },
     "execution_count": 12,
     "metadata": {},
     "output_type": "execute_result"
    },
    {
     "data": {
      "image/png": "[encoded data removed]",
      "text/plain": [
       "<Figure size 432x288 with 1 Axes>"
      ]
     },
     "metadata": {
      "needs_background": "light"
     },
     "output_type": "display_data"
    }
   ],
   "source": [
    "sns.boxplot(data=data, y=\"Sex\", x=\"Height\")"
   ]
  },
  {
   "cell_type": "markdown",
   "id": "front-hazard",
   "metadata": {},
   "source": [
    "> Распределение роста спортсменов зависит от пола. </br>\n",
    "> Распределение спортсменов по росту скошено, поэтому для обработки пропусков роста возьмем медиану в разрезе пола."
   ]
  },
  {
   "cell_type": "markdown",
   "id": "recent-yemen",
   "metadata": {},
   "source": [
    "> **Вес ('Weight')**"
   ]
  },
  {
   "cell_type": "code",
   "execution_count": 13,
   "id": "moved-omaha",
   "metadata": {},
   "outputs": [
    {
     "data": {
      "text/plain": [
       "<seaborn.axisgrid.FacetGrid at 0x7fa46829b0d0>"
      ]
     },
     "execution_count": 13,
     "metadata": {},
     "output_type": "execute_result"
    },
    {
     "data": {
      "image/png": "[encoded data removed]",
      "text/plain": [
       "<Figure size 404.625x360 with 1 Axes>"
      ]
     },
     "metadata": {
      "needs_background": "light"
     },
     "output_type": "display_data"
    }
   ],
   "source": [
    "sns.displot(data=data, x='Weight', hue='Sex', kde=True)"
   ]
  },
  {
   "cell_type": "code",
   "execution_count": 14,
   "id": "existing-killing",
   "metadata": {},
   "outputs": [
    {
     "data": {
      "text/plain": [
       "<AxesSubplot:xlabel='Weight', ylabel='Sex'>"
      ]
     },
     "execution_count": 14,
     "metadata": {},
     "output_type": "execute_result"
    },
    {
     "data": {
      "image/png": "[encoded data removed]",
      "text/plain": [
       "<Figure size 432x288 with 1 Axes>"
      ]
     },
     "metadata": {
      "needs_background": "light"
     },
     "output_type": "display_data"
    }
   ],
   "source": [
    "sns.boxplot(data=data, y=\"Sex\", x=\"Weight\")"
   ]
  },
  {
   "cell_type": "code",
   "execution_count": 15,
   "id": "exempt-hearts",
   "metadata": {},
   "outputs": [
    {
     "data": {
      "text/html": [
       "<div>\n",
       "<style scoped>\n",
       "    .dataframe tbody tr th:only-of-type {\n",
       "        vertical-align: middle;\n",
       "    }\n",
       "\n",
       "    .dataframe tbody tr th {\n",
       "        vertical-align: top;\n",
       "    }\n",
       "\n",
       "    .dataframe thead th {\n",
       "        text-align: right;\n",
       "    }\n",
       "</style>\n",
       "<table border=\"1\" class=\"dataframe\">\n",
       "  <thead>\n",
       "    <tr style=\"text-align: right;\">\n",
       "      <th></th>\n",
       "      <th>Age</th>\n",
       "      <th>Height</th>\n",
       "      <th>Weight</th>\n",
       "    </tr>\n",
       "    <tr>\n",
       "      <th>Sex</th>\n",
       "      <th></th>\n",
       "      <th></th>\n",
       "      <th></th>\n",
       "    </tr>\n",
       "  </thead>\n",
       "  <tbody>\n",
       "    <tr>\n",
       "      <th>F</th>\n",
       "      <td>23.0</td>\n",
       "      <td>168.0</td>\n",
       "      <td>59.0</td>\n",
       "    </tr>\n",
       "    <tr>\n",
       "      <th>M</th>\n",
       "      <td>25.0</td>\n",
       "      <td>179.0</td>\n",
       "      <td>74.0</td>\n",
       "    </tr>\n",
       "  </tbody>\n",
       "</table>\n",
       "</div>"
      ],
      "text/plain": [
       "      Age  Height  Weight\n",
       "Sex                      \n",
       "F    23.0   168.0    59.0\n",
       "M    25.0   179.0    74.0"
      ]
     },
     "execution_count": 15,
     "metadata": {},
     "output_type": "execute_result"
    }
   ],
   "source": [
    "data.groupby('Sex')[['Age', 'Height', 'Weight']].median()"
   ]
  },
  {
   "cell_type": "markdown",
   "id": "blond-collect",
   "metadata": {},
   "source": [
    "> Распределение веса спортсменов зависит от пола. </br>\n",
    "> Распределение спортсменов по весу скошено, поэтому для обработки пропусков веса возьмем медиану в разрезе пола."
   ]
  },
  {
   "cell_type": "markdown",
   "id": "assisted-blast",
   "metadata": {},
   "source": [
    "> **Заполняем пропуски**"
   ]
  },
  {
   "cell_type": "code",
   "execution_count": 16,
   "id": "smoking-pepper",
   "metadata": {},
   "outputs": [],
   "source": [
    "sex = ['M', 'F']\n",
    "num_cols = ['Age', 'Height', 'Weight']\n",
    "\n",
    "for s in sex:\n",
    "    for col in num_cols:\n",
    "        rows = (data['Sex'] == s)\n",
    "        median = data.loc[rows, col].median()\n",
    "        data.loc[rows, col] = data.loc[rows, col].fillna(median)"
   ]
  },
  {
   "cell_type": "markdown",
   "id": "anonymous-canon",
   "metadata": {},
   "source": [
    "> **Проверим выполненное заполнение пропусков**"
   ]
  },
  {
   "cell_type": "code",
   "execution_count": 17,
   "id": "decimal-slide",
   "metadata": {},
   "outputs": [
    {
     "data": {
      "text/html": [
       "<div>\n",
       "<style scoped>\n",
       "    .dataframe tbody tr th:only-of-type {\n",
       "        vertical-align: middle;\n",
       "    }\n",
       "\n",
       "    .dataframe tbody tr th {\n",
       "        vertical-align: top;\n",
       "    }\n",
       "\n",
       "    .dataframe thead th {\n",
       "        text-align: right;\n",
       "    }\n",
       "</style>\n",
       "<table border=\"1\" class=\"dataframe\">\n",
       "  <thead>\n",
       "    <tr style=\"text-align: right;\">\n",
       "      <th></th>\n",
       "      <th>Age</th>\n",
       "      <th>Height</th>\n",
       "      <th>Weight</th>\n",
       "    </tr>\n",
       "    <tr>\n",
       "      <th>Sex</th>\n",
       "      <th></th>\n",
       "      <th></th>\n",
       "      <th></th>\n",
       "    </tr>\n",
       "  </thead>\n",
       "  <tbody>\n",
       "    <tr>\n",
       "      <th>F</th>\n",
       "      <td>23.0</td>\n",
       "      <td>168.0</td>\n",
       "      <td>59.0</td>\n",
       "    </tr>\n",
       "    <tr>\n",
       "      <th>M</th>\n",
       "      <td>25.0</td>\n",
       "      <td>179.0</td>\n",
       "      <td>74.0</td>\n",
       "    </tr>\n",
       "  </tbody>\n",
       "</table>\n",
       "</div>"
      ],
      "text/plain": [
       "      Age  Height  Weight\n",
       "Sex                      \n",
       "F    23.0   168.0    59.0\n",
       "M    25.0   179.0    74.0"
      ]
     },
     "execution_count": 17,
     "metadata": {},
     "output_type": "execute_result"
    }
   ],
   "source": [
    "data.groupby('Sex')[['Age', 'Height', 'Weight']].median()"
   ]
  },
  {
   "cell_type": "code",
   "execution_count": 18,
   "id": "mental-framing",
   "metadata": {},
   "outputs": [
    {
     "data": {
      "text/plain": [
       "ID         0.000000\n",
       "Name       0.000000\n",
       "Sex        0.000000\n",
       "Age        0.000000\n",
       "Height     0.000000\n",
       "Weight     0.000000\n",
       "Team       0.000000\n",
       "NOC        0.000000\n",
       "Games      0.000000\n",
       "Year       0.000000\n",
       "Season     0.000000\n",
       "City       0.000000\n",
       "Sport      0.000000\n",
       "Event      0.000000\n",
       "Medal     85.254939\n",
       "dtype: float64"
      ]
     },
     "execution_count": 18,
     "metadata": {},
     "output_type": "execute_result"
    }
   ],
   "source": [
    "data.isnull().mean()*100"
   ]
  },
  {
   "cell_type": "markdown",
   "id": "spanish-biology",
   "metadata": {},
   "source": [
    "> Пропуски количественных переменных заполнены, статистика не изменилась (медиана). Значит, все хорошо"
   ]
  },
  {
   "cell_type": "markdown",
   "id": "small-closer",
   "metadata": {},
   "source": [
    "##### Работа с типами"
   ]
  },
  {
   "cell_type": "markdown",
   "id": "cultural-background",
   "metadata": {},
   "source": [
    "> Изменим типы возраста и роста"
   ]
  },
  {
   "cell_type": "code",
   "execution_count": 19,
   "id": "retained-antenna",
   "metadata": {},
   "outputs": [],
   "source": [
    "num_cols = ['Age', 'Height']\n",
    "\n",
    "for col in num_cols:\n",
    "    data[col] = data[col].astype(int)"
   ]
  },
  {
   "cell_type": "markdown",
   "id": "retained-building",
   "metadata": {},
   "source": [
    "##### Смотрим, что получилось"
   ]
  },
  {
   "cell_type": "code",
   "execution_count": 20,
   "id": "solid-packing",
   "metadata": {},
   "outputs": [
    {
     "name": "stdout",
     "output_type": "stream",
     "text": [
      "<class 'pandas.core.frame.DataFrame'>\n",
      "Int64Index: 269731 entries, 0 to 271115\n",
      "Data columns (total 15 columns):\n",
      " #   Column  Non-Null Count   Dtype  \n",
      "---  ------  --------------   -----  \n",
      " 0   ID      269731 non-null  int64  \n",
      " 1   Name    269731 non-null  object \n",
      " 2   Sex     269731 non-null  object \n",
      " 3   Age     269731 non-null  int64  \n",
      " 4   Height  269731 non-null  int64  \n",
      " 5   Weight  269731 non-null  float64\n",
      " 6   Team    269731 non-null  object \n",
      " 7   NOC     269731 non-null  object \n",
      " 8   Games   269731 non-null  object \n",
      " 9   Year    269731 non-null  int64  \n",
      " 10  Season  269731 non-null  object \n",
      " 11  City    269731 non-null  object \n",
      " 12  Sport   269731 non-null  object \n",
      " 13  Event   269731 non-null  object \n",
      " 14  Medal   39772 non-null   object \n",
      "dtypes: float64(1), int64(4), object(10)\n",
      "memory usage: 41.0+ MB\n"
     ]
    }
   ],
   "source": [
    "data.info()"
   ]
  },
  {
   "cell_type": "code",
   "execution_count": 21,
   "id": "floating-syndrome",
   "metadata": {},
   "outputs": [
    {
     "data": {
      "text/html": [
       "<div>\n",
       "<style scoped>\n",
       "    .dataframe tbody tr th:only-of-type {\n",
       "        vertical-align: middle;\n",
       "    }\n",
       "\n",
       "    .dataframe tbody tr th {\n",
       "        vertical-align: top;\n",
       "    }\n",
       "\n",
       "    .dataframe thead th {\n",
       "        text-align: right;\n",
       "    }\n",
       "</style>\n",
       "<table border=\"1\" class=\"dataframe\">\n",
       "  <thead>\n",
       "    <tr style=\"text-align: right;\">\n",
       "      <th></th>\n",
       "      <th>ID</th>\n",
       "      <th>Age</th>\n",
       "      <th>Height</th>\n",
       "      <th>Weight</th>\n",
       "      <th>Year</th>\n",
       "    </tr>\n",
       "  </thead>\n",
       "  <tbody>\n",
       "    <tr>\n",
       "      <th>count</th>\n",
       "      <td>269731.000000</td>\n",
       "      <td>269731.000000</td>\n",
       "      <td>269731.000000</td>\n",
       "      <td>269731.000000</td>\n",
       "      <td>269731.000000</td>\n",
       "    </tr>\n",
       "    <tr>\n",
       "      <th>mean</th>\n",
       "      <td>68264.949591</td>\n",
       "      <td>25.436090</td>\n",
       "      <td>175.851763</td>\n",
       "      <td>71.031087</td>\n",
       "      <td>1978.623073</td>\n",
       "    </tr>\n",
       "    <tr>\n",
       "      <th>std</th>\n",
       "      <td>39026.253843</td>\n",
       "      <td>6.057778</td>\n",
       "      <td>9.498628</td>\n",
       "      <td>12.839655</td>\n",
       "      <td>29.752055</td>\n",
       "    </tr>\n",
       "    <tr>\n",
       "      <th>min</th>\n",
       "      <td>1.000000</td>\n",
       "      <td>10.000000</td>\n",
       "      <td>127.000000</td>\n",
       "      <td>25.000000</td>\n",
       "      <td>1896.000000</td>\n",
       "    </tr>\n",
       "    <tr>\n",
       "      <th>25%</th>\n",
       "      <td>34655.500000</td>\n",
       "      <td>22.000000</td>\n",
       "      <td>170.000000</td>\n",
       "      <td>62.000000</td>\n",
       "      <td>1960.000000</td>\n",
       "    </tr>\n",
       "    <tr>\n",
       "      <th>50%</th>\n",
       "      <td>68233.000000</td>\n",
       "      <td>25.000000</td>\n",
       "      <td>178.000000</td>\n",
       "      <td>73.000000</td>\n",
       "      <td>1988.000000</td>\n",
       "    </tr>\n",
       "    <tr>\n",
       "      <th>75%</th>\n",
       "      <td>102111.000000</td>\n",
       "      <td>28.000000</td>\n",
       "      <td>180.000000</td>\n",
       "      <td>76.000000</td>\n",
       "      <td>2002.000000</td>\n",
       "    </tr>\n",
       "    <tr>\n",
       "      <th>max</th>\n",
       "      <td>135571.000000</td>\n",
       "      <td>97.000000</td>\n",
       "      <td>226.000000</td>\n",
       "      <td>214.000000</td>\n",
       "      <td>2016.000000</td>\n",
       "    </tr>\n",
       "  </tbody>\n",
       "</table>\n",
       "</div>"
      ],
      "text/plain": [
       "                  ID            Age         Height         Weight  \\\n",
       "count  269731.000000  269731.000000  269731.000000  269731.000000   \n",
       "mean    68264.949591      25.436090     175.851763      71.031087   \n",
       "std     39026.253843       6.057778       9.498628      12.839655   \n",
       "min         1.000000      10.000000     127.000000      25.000000   \n",
       "25%     34655.500000      22.000000     170.000000      62.000000   \n",
       "50%     68233.000000      25.000000     178.000000      73.000000   \n",
       "75%    102111.000000      28.000000     180.000000      76.000000   \n",
       "max    135571.000000      97.000000     226.000000     214.000000   \n",
       "\n",
       "                Year  \n",
       "count  269731.000000  \n",
       "mean     1978.623073  \n",
       "std        29.752055  \n",
       "min      1896.000000  \n",
       "25%      1960.000000  \n",
       "50%      1988.000000  \n",
       "75%      2002.000000  \n",
       "max      2016.000000  "
      ]
     },
     "execution_count": 21,
     "metadata": {},
     "output_type": "execute_result"
    }
   ],
   "source": [
    "data.describe()"
   ]
  }
 ],
 "metadata": {
  "kernelspec": {
   "display_name": "Python 3 (ipykernel)",
   "language": "python",
   "name": "python3"
  },
  "language_info": {
   "codemirror_mode": {
    "name": "ipython",
    "version": 3
   },
   "file_extension": ".py",
   "mimetype": "text/x-python",
   "name": "python",
   "nbconvert_exporter": "python",
   "pygments_lexer": "ipython3",
   "version": "3.9.7"
  }
 },
 "nbformat": 4,
 "nbformat_minor": 5
}
